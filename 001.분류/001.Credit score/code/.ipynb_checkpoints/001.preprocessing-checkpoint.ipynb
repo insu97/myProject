{
 "cells": [
  {
   "cell_type": "markdown",
   "id": "145c9618",
   "metadata": {},
   "source": [
    "- Kaggle dataset 이용  \n",
    "https://www.kaggle.com/datasets/parisrohan/credit-score-classification"
   ]
  },
  {
   "cell_type": "markdown",
   "id": "e868d9cb",
   "metadata": {},
   "source": [
    "# 데이터 불러오기"
   ]
  },
  {
   "cell_type": "code",
   "execution_count": 72,
   "id": "a74f71e6",
   "metadata": {
    "ExecuteTime": {
     "end_time": "2023-06-05T04:53:09.982380Z",
     "start_time": "2023-06-05T04:53:09.287235Z"
    }
   },
   "outputs": [],
   "source": [
    "import pandas as pd\n",
    "\n",
    "train = pd.read_csv(\"../data/original data/train.csv\", low_memory=False)\n",
    "test  = pd.read_csv(\"../data/original data/test.csv\", low_memory=False)"
   ]
  },
  {
   "cell_type": "markdown",
   "id": "82a13948",
   "metadata": {},
   "source": [
    "## metadata"
   ]
  },
  {
   "cell_type": "markdown",
   "id": "4b8e0975",
   "metadata": {},
   "source": [
    "- ID: Unique ID of the record\n",
    "- Customer_ID: Unique ID of the customer\n",
    "- Month: Month of the year\n",
    "- Name: The name of the person\n",
    "- Age: The age of the person\n",
    "- SSN: Social Security Number of the person | 본인의 주민등록번호\n",
    "- Occupation: The occupation of the person\n",
    "- Annual_Income: The Annual Income of the person\n",
    "- Monthly_Inhand_Salary: Monthly in-hand salary of the person | 본인의 월 수중 급여\n",
    "- Num_Bank_Accounts: The number of bank accounts of the person | 개인의 은행 계좌 수\n",
    "- Num_Credit_Card: Number of credit cards the person is having | 본인이 보유하고 있는 신용카드 수\n",
    "- Interest_Rate: The interest rate on the credit card of the person | 그 사람의 신용카드 이자율\n",
    "- Num_of_Loan: The number of loans taken by the person from the bank | 그 사람이 은행에서 받은 대출의 수\n",
    "- Type_of_Loan: The types of loans taken by the person from the bank | 그 사람이 은행에서 받은 대출의 종류\n",
    "- Delay_from_due_date: The average number of days delayed by the person from the date of payment | 지급일로부터 당사자가 지연한 평균 일 수\n",
    "- Num_of_Delayed_Payment: Number of payments delayed by the person | 개인이 지연한 지급 횟수\n",
    "- Changed_Credit_Card: The percentage change in the credit card limit of the person | 개인의 신용 카드 한도 변경 비율\n",
    "- Num_Credit_Inquiries: The number of credit card inquiries by the person | 당사자의 신용 카드 문의 수\n",
    "- Credit_Mix: Classification of Credit Mix of the customer | 고객의 Credit Mix 분류\n",
    "- Outstanding_Debt: The outstanding balance of the person | 그 사람의 미지급 잔액\n",
    "- Credit_Utilization_Ratio: The credit utilization ratio of the credit card of the customer | 고객의 신용카드 사용률\n",
    "- Credit_History_Age: The age of the credit history of the person | 개인의 신용 기록 연령\n",
    "- Payment_of_Min_Amount: Yes if the person paid the minimum amount to be paid only, otherwise no. | 만약 그 사람이 지불해야 할 최소 금액만 지불했다면, 그렇지 않으면 안 됩니다.\n",
    "- Total_EMI_per_month: The total EMI per month of the person | 개인의 월별 총 EMI\n",
    "- Amount_invested_monthly: The monthly amount invested by the person | 당사자가 매월 투자한 금액\n",
    "- Payment_Behaviour: The payment behaviour of the person | 당사자의 지불 행동\n",
    "- Monthly_Balance: The monthly balance left in the account of the person | 개인 계좌에 남아 있는 월 잔액\n",
    "- Credit_Score: The credit score of the person | 개인의 신용 점수"
   ]
  },
  {
   "cell_type": "markdown",
   "id": "77124239",
   "metadata": {},
   "source": [
    "# 불필요한 컬럼 제거"
   ]
  }
 ],
 "metadata": {
  "hide_input": false,
  "kernelspec": {
   "display_name": "Python 3 (ipykernel)",
   "language": "python",
   "name": "python3"
  },
  "language_info": {
   "codemirror_mode": {
    "name": "ipython",
    "version": 3
   },
   "file_extension": ".py",
   "mimetype": "text/x-python",
   "name": "python",
   "nbconvert_exporter": "python",
   "pygments_lexer": "ipython3",
   "version": "3.9.12"
  },
  "toc": {
   "base_numbering": 1,
   "nav_menu": {
    "height": "29px",
    "width": "160px"
   },
   "number_sections": true,
   "sideBar": true,
   "skip_h1_title": false,
   "title_cell": "Table of Contents",
   "title_sidebar": "Contents",
   "toc_cell": false,
   "toc_position": {
    "height": "calc(100% - 180px)",
    "left": "10px",
    "top": "150px",
    "width": "211px"
   },
   "toc_section_display": true,
   "toc_window_display": true
  },
  "varInspector": {
   "cols": {
    "lenName": 16,
    "lenType": 16,
    "lenVar": 40
   },
   "kernels_config": {
    "python": {
     "delete_cmd_postfix": "",
     "delete_cmd_prefix": "del ",
     "library": "var_list.py",
     "varRefreshCmd": "print(var_dic_list())"
    },
    "r": {
     "delete_cmd_postfix": ") ",
     "delete_cmd_prefix": "rm(",
     "library": "var_list.r",
     "varRefreshCmd": "cat(var_dic_list()) "
    }
   },
   "types_to_exclude": [
    "module",
    "function",
    "builtin_function_or_method",
    "instance",
    "_Feature"
   ],
   "window_display": false
  }
 },
 "nbformat": 4,
 "nbformat_minor": 5
}
