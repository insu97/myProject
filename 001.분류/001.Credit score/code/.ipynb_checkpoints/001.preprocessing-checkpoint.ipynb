{
 "cells": [
  {
   "cell_type": "code",
   "execution_count": 1,
   "id": "3462405f",
   "metadata": {
    "ExecuteTime": {
     "end_time": "2023-06-05T10:06:37.528237Z",
     "start_time": "2023-06-05T10:06:37.139046Z"
    }
   },
   "outputs": [],
   "source": [
    "import tqdm\n",
    "import pandas as pd"
   ]
  },
  {
   "cell_type": "markdown",
   "id": "145c9618",
   "metadata": {},
   "source": [
    "- Kaggle dataset 이용  \n",
    "https://www.kaggle.com/datasets/parisrohan/credit-score-classification"
   ]
  },
  {
   "cell_type": "markdown",
   "id": "e868d9cb",
   "metadata": {},
   "source": [
    "# 데이터 불러오기"
   ]
  },
  {
   "cell_type": "code",
   "execution_count": 2,
   "id": "a74f71e6",
   "metadata": {
    "ExecuteTime": {
     "end_time": "2023-06-05T10:06:38.143390Z",
     "start_time": "2023-06-05T10:06:37.530219Z"
    }
   },
   "outputs": [],
   "source": [
    "train = pd.read_csv(\"../data/original data/train.csv\", low_memory=False)\n",
    "test  = pd.read_csv(\"../data/original data/test.csv\", low_memory=False)"
   ]
  },
  {
   "cell_type": "markdown",
   "id": "82a13948",
   "metadata": {},
   "source": [
    "## metadata"
   ]
  },
  {
   "cell_type": "markdown",
   "id": "4b8e0975",
   "metadata": {},
   "source": [
    "- ID: Unique ID of the record\n",
    "- Customer_ID: Unique ID of the customer\n",
    "- Month: Month of the year\n",
    "- Name: The name of the person\n",
    "- Age: The age of the person\n",
    "- SSN: Social Security Number of the person | 본인의 주민등록번호\n",
    "- Occupation: The occupation of the person\n",
    "- Annual_Income: The Annual Income of the person\n",
    "- Monthly_Inhand_Salary: Monthly in-hand salary of the person | 본인의 월 수중 급여\n",
    "- Num_Bank_Accounts: The number of bank accounts of the person | 개인의 은행 계좌 수\n",
    "- Num_Credit_Card: Number of credit cards the person is having | 본인이 보유하고 있는 신용카드 수\n",
    "- Interest_Rate: The interest rate on the credit card of the person | 그 사람의 신용카드 이자율\n",
    "- Num_of_Loan: The number of loans taken by the person from the bank | 그 사람이 은행에서 받은 대출의 수\n",
    "- Type_of_Loan: The types of loans taken by the person from the bank | 그 사람이 은행에서 받은 대출의 종류\n",
    "- Delay_from_due_date: The average number of days delayed by the person from the date of payment | 지급일로부터 당사자가 지연한 평균 일 수\n",
    "- Num_of_Delayed_Payment: Number of payments delayed by the person | 개인이 지연한 지급 횟수\n",
    "- Changed_Credit_Card: The percentage change in the credit card limit of the person | 개인의 신용 카드 한도 변경 비율\n",
    "- Num_Credit_Inquiries: The number of credit card inquiries by the person | 당사자의 신용 카드 문의 수\n",
    "- Credit_Mix: Classification of Credit Mix of the customer | 고객의 Credit Mix 분류\n",
    "- Outstanding_Debt: The outstanding balance of the person | 그 사람의 미지급 잔액\n",
    "- Credit_Utilization_Ratio: The credit utilization ratio of the credit card of the customer | 고객의 신용카드 사용률\n",
    "- Credit_History_Age: The age of the credit history of the person | 개인의 신용 기록 연령\n",
    "- Payment_of_Min_Amount: Yes if the person paid the minimum amount to be paid only, otherwise no. | 만약 그 사람이 지불해야 할 최소 금액만 지불했다면, 그렇지 않으면 안 됩니다.\n",
    "- Total_EMI_per_month: The total EMI per month of the person | 개인의 월별 총 EMI\n",
    "- Amount_invested_monthly: The monthly amount invested by the person | 당사자가 매월 투자한 금액\n",
    "- Payment_Behaviour: The payment behaviour of the person | 당사자의 지불 행동\n",
    "- Monthly_Balance: The monthly balance left in the account of the person | 개인 계좌에 남아 있는 월 잔액\n",
    "- Credit_Score: The credit score of the person | 개인의 신용 점수"
   ]
  },
  {
   "cell_type": "markdown",
   "id": "77124239",
   "metadata": {},
   "source": [
    "# 컬럼 정제"
   ]
  },
  {
   "cell_type": "markdown",
   "id": "23b16539",
   "metadata": {},
   "source": [
    "## ID"
   ]
  },
  {
   "cell_type": "code",
   "execution_count": 3,
   "id": "3ad74b21",
   "metadata": {
    "ExecuteTime": {
     "end_time": "2023-06-05T10:06:38.158489Z",
     "start_time": "2023-06-05T10:06:38.144397Z"
    }
   },
   "outputs": [
    {
     "data": {
      "text/plain": [
       "0    0x1602\n",
       "1    0x1603\n",
       "2    0x1604\n",
       "3    0x1605\n",
       "4    0x1606\n",
       "Name: ID, dtype: object"
      ]
     },
     "execution_count": 3,
     "metadata": {},
     "output_type": "execute_result"
    }
   ],
   "source": [
    "train['ID'].head()"
   ]
  },
  {
   "cell_type": "code",
   "execution_count": 4,
   "id": "a625db2c",
   "metadata": {
    "ExecuteTime": {
     "end_time": "2023-06-05T10:06:38.189665Z",
     "start_time": "2023-06-05T10:06:38.160610Z"
    }
   },
   "outputs": [],
   "source": [
    "train.drop(columns = ['ID'], axis = 1, inplace = True)"
   ]
  },
  {
   "cell_type": "markdown",
   "id": "82658b1e",
   "metadata": {},
   "source": [
    "## Customer_ID"
   ]
  },
  {
   "cell_type": "code",
   "execution_count": 5,
   "id": "e212a325",
   "metadata": {
    "ExecuteTime": {
     "end_time": "2023-06-05T10:06:38.205489Z",
     "start_time": "2023-06-05T10:06:38.191547Z"
    }
   },
   "outputs": [
    {
     "data": {
      "text/plain": [
       "CUS_0xd40     8\n",
       "CUS_0x9bf4    8\n",
       "CUS_0x5ae3    8\n",
       "CUS_0xbe9a    8\n",
       "CUS_0x4874    8\n",
       "             ..\n",
       "CUS_0x2eb4    8\n",
       "CUS_0x7863    8\n",
       "CUS_0x9d89    8\n",
       "CUS_0xc045    8\n",
       "CUS_0x942c    8\n",
       "Name: Customer_ID, Length: 12500, dtype: int64"
      ]
     },
     "execution_count": 5,
     "metadata": {},
     "output_type": "execute_result"
    }
   ],
   "source": [
    "train['Customer_ID'].value_counts() # 개개인으로 볼 때(시각화) 필요할 것 같은데 분석할 떄 필요 없을 꺼 같음"
   ]
  },
  {
   "cell_type": "code",
   "execution_count": 6,
   "id": "5c63c1e8",
   "metadata": {
    "ExecuteTime": {
     "end_time": "2023-06-05T10:06:38.235735Z",
     "start_time": "2023-06-05T10:06:38.206531Z"
    }
   },
   "outputs": [],
   "source": [
    "train.drop(columns = ['Customer_ID'], axis = 1, inplace =True)"
   ]
  },
  {
   "cell_type": "markdown",
   "id": "71cadda3",
   "metadata": {},
   "source": [
    "## Month"
   ]
  },
  {
   "cell_type": "code",
   "execution_count": 7,
   "id": "1de3c4c7",
   "metadata": {
    "ExecuteTime": {
     "end_time": "2023-06-05T10:06:38.250959Z",
     "start_time": "2023-06-05T10:06:38.236791Z"
    }
   },
   "outputs": [
    {
     "data": {
      "text/plain": [
       "January     12500\n",
       "February    12500\n",
       "March       12500\n",
       "April       12500\n",
       "May         12500\n",
       "June        12500\n",
       "July        12500\n",
       "August      12500\n",
       "Name: Month, dtype: int64"
      ]
     },
     "execution_count": 7,
     "metadata": {},
     "output_type": "execute_result"
    }
   ],
   "source": [
    "train['Month'].value_counts()"
   ]
  },
  {
   "cell_type": "code",
   "execution_count": 8,
   "id": "23805d00",
   "metadata": {
    "ExecuteTime": {
     "end_time": "2023-06-05T10:06:38.727951Z",
     "start_time": "2023-06-05T10:06:38.251942Z"
    }
   },
   "outputs": [],
   "source": [
    "train = train.replace({\n",
    "    'January':1,\n",
    "    'February':2,\n",
    "    'March':3,\n",
    "    'April':4,\n",
    "    'May':5,\n",
    "    'June':6,\n",
    "    'July':7,\n",
    "    'August':8\n",
    "})"
   ]
  },
  {
   "cell_type": "code",
   "execution_count": 9,
   "id": "8de8a0f9",
   "metadata": {
    "ExecuteTime": {
     "end_time": "2023-06-05T10:06:38.743143Z",
     "start_time": "2023-06-05T10:06:38.729846Z"
    }
   },
   "outputs": [
    {
     "data": {
      "text/plain": [
       "1    12500\n",
       "2    12500\n",
       "3    12500\n",
       "4    12500\n",
       "5    12500\n",
       "6    12500\n",
       "7    12500\n",
       "8    12500\n",
       "Name: Month, dtype: int64"
      ]
     },
     "execution_count": 9,
     "metadata": {},
     "output_type": "execute_result"
    }
   ],
   "source": [
    "train['Month'].value_counts()"
   ]
  },
  {
   "cell_type": "markdown",
   "id": "6a4337cb",
   "metadata": {},
   "source": [
    "## Name"
   ]
  },
  {
   "cell_type": "code",
   "execution_count": 10,
   "id": "31b95d56",
   "metadata": {
    "ExecuteTime": {
     "end_time": "2023-06-05T10:06:38.758175Z",
     "start_time": "2023-06-05T10:06:38.746145Z"
    }
   },
   "outputs": [
    {
     "data": {
      "text/plain": [
       "Langep            44\n",
       "Stevex            44\n",
       "Vaughanl          39\n",
       "Jessicad          39\n",
       "Raymondr          38\n",
       "                  ..\n",
       "Alina Selyukhg     4\n",
       "Habboushg          4\n",
       "Mortimerq          4\n",
       "Ronaldf            4\n",
       "Timothyl           3\n",
       "Name: Name, Length: 10139, dtype: int64"
      ]
     },
     "execution_count": 10,
     "metadata": {},
     "output_type": "execute_result"
    }
   ],
   "source": [
    "train['Name'].value_counts() # 개개인은 유의미 할 듯..? 하지만 분석할 때 흠 사용 안할꺼 같은데.."
   ]
  },
  {
   "cell_type": "code",
   "execution_count": 11,
   "id": "3e1fc0e1",
   "metadata": {
    "ExecuteTime": {
     "end_time": "2023-06-05T10:06:38.789804Z",
     "start_time": "2023-06-05T10:06:38.759146Z"
    }
   },
   "outputs": [],
   "source": [
    "train.drop(columns = ['Name'], axis = 1, inplace = True)"
   ]
  },
  {
   "cell_type": "markdown",
   "id": "90093178",
   "metadata": {},
   "source": [
    "## Age"
   ]
  },
  {
   "cell_type": "code",
   "execution_count": 12,
   "id": "48c2c10e",
   "metadata": {
    "ExecuteTime": {
     "end_time": "2023-06-05T10:06:38.805063Z",
     "start_time": "2023-06-05T10:06:38.791667Z"
    }
   },
   "outputs": [],
   "source": [
    "not_float = []"
   ]
  },
  {
   "cell_type": "code",
   "execution_count": 26,
   "id": "bea981d3",
   "metadata": {
    "ExecuteTime": {
     "end_time": "2023-06-05T10:10:27.219671Z",
     "start_time": "2023-06-05T10:08:54.516819Z"
    }
   },
   "outputs": [],
   "source": [
    "for i in range(len(train)):\n",
    "    try :\n",
    "        train.loc[i, ['Age']] = float(train.loc[i, ['Age']])\n",
    "    except:\n",
    "        not_float.append(i)"
   ]
  },
  {
   "cell_type": "code",
   "execution_count": 39,
   "id": "777358ee",
   "metadata": {
    "ExecuteTime": {
     "end_time": "2023-06-05T10:16:40.609111Z",
     "start_time": "2023-06-05T10:16:33.744253Z"
    }
   },
   "outputs": [],
   "source": [
    "for i in not_float :\n",
    "    train.loc[i, ['Age']] = train.loc[i, ['Age']].str.split('_')[0][0]"
   ]
  },
  {
   "cell_type": "code",
   "execution_count": 43,
   "id": "54340731",
   "metadata": {
    "ExecuteTime": {
     "end_time": "2023-06-05T10:17:13.593832Z",
     "start_time": "2023-06-05T10:17:13.562598Z"
    }
   },
   "outputs": [],
   "source": [
    "train['Age'] = train['Age'].astype('float')"
   ]
  },
  {
   "cell_type": "code",
   "execution_count": 56,
   "id": "c0d0769f",
   "metadata": {
    "ExecuteTime": {
     "end_time": "2023-06-05T10:19:12.243520Z",
     "start_time": "2023-06-05T10:19:12.199543Z"
    }
   },
   "outputs": [],
   "source": [
    "train = train.drop(train[train['Age'] <= 0].index)"
   ]
  },
  {
   "cell_type": "code",
   "execution_count": 59,
   "id": "7f26dd21",
   "metadata": {
    "ExecuteTime": {
     "end_time": "2023-06-05T10:19:58.789329Z",
     "start_time": "2023-06-05T10:19:58.773552Z"
    }
   },
   "outputs": [],
   "source": [
    "train.reset_index(drop=True, inplace = True)"
   ]
  },
  {
   "cell_type": "markdown",
   "id": "af740a9b",
   "metadata": {},
   "source": [
    "## SSN"
   ]
  },
  {
   "cell_type": "code",
   "execution_count": 62,
   "id": "e02ed280",
   "metadata": {
    "ExecuteTime": {
     "end_time": "2023-06-05T10:23:12.097916Z",
     "start_time": "2023-06-05T10:23:12.063536Z"
    }
   },
   "outputs": [],
   "source": [
    "train.drop(columns = 'SSN', axis = 1 , inplace = True)"
   ]
  },
  {
   "cell_type": "markdown",
   "id": "8b32d3c9",
   "metadata": {},
   "source": [
    "## Occupation"
   ]
  },
  {
   "cell_type": "code",
   "execution_count": 65,
   "id": "2ddb3473",
   "metadata": {
    "ExecuteTime": {
     "end_time": "2023-06-05T10:25:27.008084Z",
     "start_time": "2023-06-05T10:25:26.982759Z"
    }
   },
   "outputs": [
    {
     "data": {
      "text/plain": [
       "_______          7001\n",
       "Lawyer           6505\n",
       "Architect        6303\n",
       "Engineer         6295\n",
       "Scientist        6238\n",
       "Mechanic         6229\n",
       "Accountant       6221\n",
       "Media_Manager    6176\n",
       "Developer        6169\n",
       "Teacher          6153\n",
       "Entrepreneur     6134\n",
       "Journalist       6036\n",
       "Doctor           6025\n",
       "Manager          5932\n",
       "Musician         5857\n",
       "Writer           5840\n",
       "Name: Occupation, dtype: int64"
      ]
     },
     "execution_count": 65,
     "metadata": {},
     "output_type": "execute_result"
    }
   ],
   "source": [
    "train['Occupation'].value_counts()"
   ]
  },
  {
   "cell_type": "code",
   "execution_count": 68,
   "id": "95d6b348",
   "metadata": {
    "ExecuteTime": {
     "end_time": "2023-06-05T10:56:49.941466Z",
     "start_time": "2023-06-05T10:56:49.923417Z"
    }
   },
   "outputs": [],
   "source": [
    "train.drop(columns = ['Occupation'], axis = 1, inplace = True)"
   ]
  },
  {
   "cell_type": "markdown",
   "id": "8c09d522",
   "metadata": {},
   "source": [
    "## Annual_Income"
   ]
  }
 ],
 "metadata": {
  "hide_input": false,
  "kernelspec": {
   "display_name": "Python 3 (ipykernel)",
   "language": "python",
   "name": "python3"
  },
  "language_info": {
   "codemirror_mode": {
    "name": "ipython",
    "version": 3
   },
   "file_extension": ".py",
   "mimetype": "text/x-python",
   "name": "python",
   "nbconvert_exporter": "python",
   "pygments_lexer": "ipython3",
   "version": "3.9.12"
  },
  "toc": {
   "base_numbering": 1,
   "nav_menu": {
    "height": "29px",
    "width": "160px"
   },
   "number_sections": true,
   "sideBar": true,
   "skip_h1_title": false,
   "title_cell": "Table of Contents",
   "title_sidebar": "Contents",
   "toc_cell": false,
   "toc_position": {
    "height": "calc(100% - 180px)",
    "left": "10px",
    "top": "150px",
    "width": "211px"
   },
   "toc_section_display": true,
   "toc_window_display": true
  },
  "varInspector": {
   "cols": {
    "lenName": 16,
    "lenType": 16,
    "lenVar": 40
   },
   "kernels_config": {
    "python": {
     "delete_cmd_postfix": "",
     "delete_cmd_prefix": "del ",
     "library": "var_list.py",
     "varRefreshCmd": "print(var_dic_list())"
    },
    "r": {
     "delete_cmd_postfix": ") ",
     "delete_cmd_prefix": "rm(",
     "library": "var_list.r",
     "varRefreshCmd": "cat(var_dic_list()) "
    }
   },
   "types_to_exclude": [
    "module",
    "function",
    "builtin_function_or_method",
    "instance",
    "_Feature"
   ],
   "window_display": false
  }
 },
 "nbformat": 4,
 "nbformat_minor": 5
}
