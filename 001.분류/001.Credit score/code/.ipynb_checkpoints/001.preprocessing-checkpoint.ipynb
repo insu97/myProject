{
 "cells": [
  {
   "cell_type": "code",
   "execution_count": 1,
   "id": "3462405f",
   "metadata": {
    "ExecuteTime": {
     "end_time": "2023-06-13T06:53:46.297536Z",
     "start_time": "2023-06-13T06:53:45.077942Z"
    }
   },
   "outputs": [],
   "source": [
    "import pandas as pd\n",
    "import matplotlib.pyplot as plt"
   ]
  },
  {
   "cell_type": "markdown",
   "id": "145c9618",
   "metadata": {},
   "source": [
    "- Kaggle dataset 이용  \n",
    "https://www.kaggle.com/datasets/parisrohan/credit-score-classification"
   ]
  },
  {
   "cell_type": "markdown",
   "id": "e868d9cb",
   "metadata": {},
   "source": [
    "# 데이터 불러오기"
   ]
  },
  {
   "cell_type": "code",
   "execution_count": 2,
   "id": "a74f71e6",
   "metadata": {
    "ExecuteTime": {
     "end_time": "2023-06-13T06:53:46.938937Z",
     "start_time": "2023-06-13T06:53:46.298371Z"
    }
   },
   "outputs": [],
   "source": [
    "train = pd.read_csv(\"../data/original data/train.csv\", low_memory=False)\n",
    "test  = pd.read_csv(\"../data/original data/test.csv\", low_memory=False)"
   ]
  },
  {
   "cell_type": "markdown",
   "id": "82a13948",
   "metadata": {},
   "source": [
    "## metadata"
   ]
  },
  {
   "cell_type": "markdown",
   "id": "4b8e0975",
   "metadata": {},
   "source": [
    "- ID: Unique ID of the record\n",
    "- Customer_ID: Unique ID of the customer\n",
    "- Month: Month of the year\n",
    "- Name: The name of the person\n",
    "- Age: The age of the person\n",
    "- SSN: Social Security Number of the person | 본인의 주민등록번호\n",
    "- Occupation: The occupation of the person\n",
    "- Annual_Income: The Annual Income of the person\n",
    "- Monthly_Inhand_Salary: Monthly in-hand salary of the person | 본인의 월 수중 급여\n",
    "- Num_Bank_Accounts: The number of bank accounts of the person | 개인의 은행 계좌 수\n",
    "- Num_Credit_Card: Number of credit cards the person is having | 본인이 보유하고 있는 신용카드 수\n",
    "- Interest_Rate: The interest rate on the credit card of the person | 그 사람의 신용카드 이자율\n",
    "- Num_of_Loan: The number of loans taken by the person from the bank | 그 사람이 은행에서 받은 대출의 수\n",
    "- Type_of_Loan: The types of loans taken by the person from the bank | 그 사람이 은행에서 받은 대출의 종류\n",
    "- Delay_from_due_date: The average number of days delayed by the person from the date of payment | 지급일로부터 당사자가 지연한 평균 일 수\n",
    "- Num_of_Delayed_Payment: Number of payments delayed by the person | 개인이 지연한 지급 횟수\n",
    "- Changed_Credit_Card: The percentage change in the credit card limit of the person | 개인의 신용 카드 한도 변경 비율\n",
    "- Num_Credit_Inquiries: The number of credit card inquiries by the person | 당사자의 신용 카드 문의 수\n",
    "- Credit_Mix: Classification of Credit Mix of the customer | 고객의 Credit Mix 분류\n",
    "- Outstanding_Debt: The outstanding balance of the person | 그 사람의 미지급 잔액\n",
    "- Credit_Utilization_Ratio: The credit utilization ratio of the credit card of the customer | 고객의 신용카드 사용률\n",
    "- Credit_History_Age: The age of the credit history of the person | 개인의 신용 기록 연령\n",
    "- Payment_of_Min_Amount: Yes if the person paid the minimum amount to be paid only, otherwise no. | 만약 그 사람이 지불해야 할 최소 금액만 지불했다면, 그렇지 않으면 안 됩니다.\n",
    "- Total_EMI_per_month: The total EMI per month of the person | 개인의 월별 총 EMI\n",
    "- Amount_invested_monthly: The monthly amount invested by the person | 당사자가 매월 투자한 금액\n",
    "- Payment_Behaviour: The payment behaviour of the person | 당사자의 지불 행동\n",
    "- Monthly_Balance: The monthly balance left in the account of the person | 개인 계좌에 남아 있는 월 잔액\n",
    "- Credit_Score: The credit score of the person | 개인의 신용 점수"
   ]
  },
  {
   "cell_type": "markdown",
   "id": "77124239",
   "metadata": {},
   "source": [
    "# 컬럼 정제"
   ]
  },
  {
   "cell_type": "markdown",
   "id": "23b16539",
   "metadata": {},
   "source": [
    "## ID"
   ]
  },
  {
   "cell_type": "code",
   "execution_count": 3,
   "id": "3ad74b21",
   "metadata": {
    "ExecuteTime": {
     "end_time": "2023-06-13T06:53:46.954921Z",
     "start_time": "2023-06-13T06:53:46.939854Z"
    }
   },
   "outputs": [
    {
     "data": {
      "text/plain": [
       "0    0x1602\n",
       "1    0x1603\n",
       "2    0x1604\n",
       "3    0x1605\n",
       "4    0x1606\n",
       "Name: ID, dtype: object"
      ]
     },
     "execution_count": 3,
     "metadata": {},
     "output_type": "execute_result"
    }
   ],
   "source": [
    "train['ID'].head()"
   ]
  },
  {
   "cell_type": "code",
   "execution_count": 4,
   "id": "a625db2c",
   "metadata": {
    "ExecuteTime": {
     "end_time": "2023-06-13T06:53:47.000852Z",
     "start_time": "2023-06-13T06:53:46.957917Z"
    }
   },
   "outputs": [],
   "source": [
    "train.drop(columns = ['ID'], axis = 1, inplace = True)\n",
    "test.drop(columns = ['ID'], axis = 1, inplace = True)"
   ]
  },
  {
   "cell_type": "markdown",
   "id": "82658b1e",
   "metadata": {},
   "source": [
    "## Customer_ID"
   ]
  },
  {
   "cell_type": "code",
   "execution_count": 5,
   "id": "e212a325",
   "metadata": {
    "ExecuteTime": {
     "end_time": "2023-06-13T06:53:47.016255Z",
     "start_time": "2023-06-13T06:53:47.002851Z"
    }
   },
   "outputs": [
    {
     "data": {
      "text/plain": [
       "CUS_0xd40     8\n",
       "CUS_0x9bf4    8\n",
       "CUS_0x5ae3    8\n",
       "CUS_0xbe9a    8\n",
       "CUS_0x4874    8\n",
       "             ..\n",
       "CUS_0x2eb4    8\n",
       "CUS_0x7863    8\n",
       "CUS_0x9d89    8\n",
       "CUS_0xc045    8\n",
       "CUS_0x942c    8\n",
       "Name: Customer_ID, Length: 12500, dtype: int64"
      ]
     },
     "execution_count": 5,
     "metadata": {},
     "output_type": "execute_result"
    }
   ],
   "source": [
    "train['Customer_ID'].value_counts() # 개개인으로 볼 때(시각화) 필요할 것 같은데 분석할 떄 필요 없을 꺼 같음"
   ]
  },
  {
   "cell_type": "code",
   "execution_count": 6,
   "id": "5c63c1e8",
   "metadata": {
    "ExecuteTime": {
     "end_time": "2023-06-13T06:53:47.047543Z",
     "start_time": "2023-06-13T06:53:47.017254Z"
    }
   },
   "outputs": [],
   "source": [
    "train.drop(columns = ['Customer_ID'], axis = 1, inplace =True)\n",
    "test.drop(columns = ['Customer_ID'], axis = 1, inplace =True)"
   ]
  },
  {
   "cell_type": "markdown",
   "id": "71cadda3",
   "metadata": {},
   "source": [
    "## Month"
   ]
  },
  {
   "cell_type": "code",
   "execution_count": 7,
   "id": "1de3c4c7",
   "metadata": {
    "ExecuteTime": {
     "end_time": "2023-06-13T06:53:47.063541Z",
     "start_time": "2023-06-13T06:53:47.049545Z"
    }
   },
   "outputs": [
    {
     "data": {
      "text/plain": [
       "January     12500\n",
       "February    12500\n",
       "March       12500\n",
       "April       12500\n",
       "May         12500\n",
       "June        12500\n",
       "July        12500\n",
       "August      12500\n",
       "Name: Month, dtype: int64"
      ]
     },
     "execution_count": 7,
     "metadata": {},
     "output_type": "execute_result"
    }
   ],
   "source": [
    "train['Month'].value_counts()"
   ]
  },
  {
   "cell_type": "code",
   "execution_count": 8,
   "id": "1a0254d4",
   "metadata": {
    "ExecuteTime": {
     "end_time": "2023-06-13T06:53:47.079540Z",
     "start_time": "2023-06-13T06:53:47.065444Z"
    }
   },
   "outputs": [
    {
     "data": {
      "text/plain": [
       "September    12500\n",
       "October      12500\n",
       "November     12500\n",
       "December     12500\n",
       "Name: Month, dtype: int64"
      ]
     },
     "execution_count": 8,
     "metadata": {},
     "output_type": "execute_result"
    }
   ],
   "source": [
    "test['Month'].value_counts()"
   ]
  },
  {
   "cell_type": "code",
   "execution_count": 9,
   "id": "9f25ef5d",
   "metadata": {
    "ExecuteTime": {
     "end_time": "2023-06-13T06:53:47.111452Z",
     "start_time": "2023-06-13T06:53:47.082441Z"
    }
   },
   "outputs": [],
   "source": [
    "# train, test 셋 데이터가 다르다!\n",
    "# train 데이터를 분석할 시 사용해도 될듯도..?\n",
    "train.drop(columns = 'Month', axis=1, inplace = True)\n",
    "test.drop(columns = 'Month', axis=1, inplace = True)"
   ]
  },
  {
   "cell_type": "markdown",
   "id": "6a4337cb",
   "metadata": {},
   "source": [
    "## Name"
   ]
  },
  {
   "cell_type": "code",
   "execution_count": 10,
   "id": "31b95d56",
   "metadata": {
    "ExecuteTime": {
     "end_time": "2023-06-13T06:53:47.127539Z",
     "start_time": "2023-06-13T06:53:47.113441Z"
    }
   },
   "outputs": [
    {
     "data": {
      "text/plain": [
       "Langep            44\n",
       "Stevex            44\n",
       "Vaughanl          39\n",
       "Jessicad          39\n",
       "Raymondr          38\n",
       "                  ..\n",
       "Alina Selyukhg     4\n",
       "Habboushg          4\n",
       "Mortimerq          4\n",
       "Ronaldf            4\n",
       "Timothyl           3\n",
       "Name: Name, Length: 10139, dtype: int64"
      ]
     },
     "execution_count": 10,
     "metadata": {},
     "output_type": "execute_result"
    }
   ],
   "source": [
    "train['Name'].value_counts() # 개개인은 유의미 할 듯..? 하지만 분석할 때는 사용 안할꺼 같은데.."
   ]
  },
  {
   "cell_type": "code",
   "execution_count": 11,
   "id": "3e1fc0e1",
   "metadata": {
    "ExecuteTime": {
     "end_time": "2023-06-13T06:53:47.158967Z",
     "start_time": "2023-06-13T06:53:47.129445Z"
    }
   },
   "outputs": [],
   "source": [
    "train.drop(columns = ['Name'], axis = 1, inplace = True)\n",
    "test.drop(columns = ['Name'], axis = 1, inplace = True)"
   ]
  },
  {
   "cell_type": "markdown",
   "id": "90093178",
   "metadata": {},
   "source": [
    "## Age"
   ]
  },
  {
   "cell_type": "code",
   "execution_count": 12,
   "id": "48c2c10e",
   "metadata": {
    "ExecuteTime": {
     "end_time": "2023-06-13T06:55:11.115123Z",
     "start_time": "2023-06-13T06:53:47.161038Z"
    }
   },
   "outputs": [],
   "source": [
    "not_float_train = []\n",
    "\n",
    "for i in range(len(train)):\n",
    "    try :\n",
    "        train.loc[i, ['Age']] = float(train.loc[i, ['Age']])\n",
    "    except:\n",
    "        not_float_train.append(i)\n",
    "\n",
    "for i in not_float_train :\n",
    "    train.loc[i, ['Age']] = train.loc[i, ['Age']].str.split('_')[0][0]\n",
    "\n",
    "train['Age'] = train['Age'].astype('float')\n",
    "\n",
    "train = train.drop(train[train['Age'] <= 0].index)\n",
    "train = train.drop(train[train['Age'] >= 80].index)\n",
    "\n",
    "train.reset_index(drop=True, inplace = True)"
   ]
  },
  {
   "cell_type": "code",
   "execution_count": 13,
   "id": "ea2a7807",
   "metadata": {
    "ExecuteTime": {
     "end_time": "2023-06-13T06:55:59.214783Z",
     "start_time": "2023-06-13T06:55:11.117652Z"
    }
   },
   "outputs": [],
   "source": [
    "not_float_test = []\n",
    "\n",
    "for i in range(len(test)):\n",
    "    try :\n",
    "        test.loc[i, ['Age']] = float(test.loc[i, ['Age']])\n",
    "    except:\n",
    "        not_float_test.append(i)\n",
    "\n",
    "for i in not_float_test :\n",
    "    test.loc[i, ['Age']] = test.loc[i, ['Age']].str.split('_')[0][0]\n",
    "\n",
    "test['Age'] = test['Age'].astype('float')\n",
    "\n",
    "test = test.drop(test[test['Age'] <= 0].index)\n",
    "test = test.drop(test[test['Age'] >= 80].index)\n",
    "\n",
    "test.reset_index(drop=True, inplace = True)"
   ]
  },
  {
   "cell_type": "code",
   "execution_count": 14,
   "id": "40fab3d3",
   "metadata": {
    "ExecuteTime": {
     "end_time": "2023-06-13T06:55:59.355880Z",
     "start_time": "2023-06-13T06:55:59.216941Z"
    }
   },
   "outputs": [
    {
     "data": {
      "text/plain": [
       "<AxesSubplot:>"
      ]
     },
     "execution_count": 14,
     "metadata": {},
     "output_type": "execute_result"
    },
    {
     "data": {
      "image/png": "[encoded data removed]",
      "text/plain": [
       "<Figure size 432x288 with 1 Axes>"
      ]
     },
     "metadata": {
      "needs_background": "light"
     },
     "output_type": "display_data"
    }
   ],
   "source": [
    "train['Age'].hist()"
   ]
  },
  {
   "cell_type": "code",
   "execution_count": 15,
   "id": "5fe66e0a",
   "metadata": {
    "ExecuteTime": {
     "end_time": "2023-06-13T06:55:59.479669Z",
     "start_time": "2023-06-13T06:55:59.358124Z"
    }
   },
   "outputs": [
    {
     "data": {
      "text/plain": [
       "<AxesSubplot:>"
      ]
     },
     "execution_count": 15,
     "metadata": {},
     "output_type": "execute_result"
    },
    {
     "data": {
      "image/png": "[encoded data removed]",
      "text/plain": [
       "<Figure size 432x288 with 1 Axes>"
      ]
     },
     "metadata": {
      "needs_background": "light"
     },
     "output_type": "display_data"
    }
   ],
   "source": [
    "test['Age'].hist()"
   ]
  },
  {
   "cell_type": "markdown",
   "id": "af740a9b",
   "metadata": {},
   "source": [
    "## SSN"
   ]
  },
  {
   "cell_type": "code",
   "execution_count": 16,
   "id": "e02ed280",
   "metadata": {
    "ExecuteTime": {
     "end_time": "2023-06-13T06:55:59.510145Z",
     "start_time": "2023-06-13T06:55:59.480703Z"
    }
   },
   "outputs": [],
   "source": [
    "# 주민등록번호 정보는 필요없다!\n",
    "train.drop(columns = 'SSN', axis = 1 , inplace = True)\n",
    "test.drop(columns = 'SSN', axis = 1 , inplace = True)"
   ]
  },
  {
   "cell_type": "markdown",
   "id": "8b32d3c9",
   "metadata": {},
   "source": [
    "## Occupation"
   ]
  },
  {
   "cell_type": "code",
   "execution_count": 17,
   "id": "2ddb3473",
   "metadata": {
    "ExecuteTime": {
     "end_time": "2023-06-13T06:55:59.526112Z",
     "start_time": "2023-06-13T06:55:59.512110Z"
    }
   },
   "outputs": [
    {
     "data": {
      "text/plain": [
       "_______          6872\n",
       "Lawyer           6389\n",
       "Architect        6175\n",
       "Engineer         6171\n",
       "Scientist        6113\n",
       "Accountant       6110\n",
       "Mechanic         6099\n",
       "Media_Manager    6068\n",
       "Teacher          6049\n",
       "Developer        6031\n",
       "Entrepreneur     6014\n",
       "Doctor           5915\n",
       "Journalist       5906\n",
       "Manager          5806\n",
       "Musician         5760\n",
       "Writer           5741\n",
       "Name: Occupation, dtype: int64"
      ]
     },
     "execution_count": 17,
     "metadata": {},
     "output_type": "execute_result"
    }
   ],
   "source": [
    "train['Occupation'].value_counts()"
   ]
  },
  {
   "cell_type": "code",
   "execution_count": 18,
   "id": "498dabfa",
   "metadata": {
    "ExecuteTime": {
     "end_time": "2023-06-13T06:55:59.542109Z",
     "start_time": "2023-06-13T06:55:59.528097Z"
    }
   },
   "outputs": [
    {
     "data": {
      "text/plain": [
       "_______          3346\n",
       "Lawyer           3245\n",
       "Engineer         3118\n",
       "Architect        3104\n",
       "Mechanic         3089\n",
       "Media_Manager    3050\n",
       "Developer        3042\n",
       "Accountant       3042\n",
       "Scientist        3017\n",
       "Teacher          3009\n",
       "Entrepreneur     3006\n",
       "Journalist       2957\n",
       "Doctor           2955\n",
       "Manager          2906\n",
       "Musician         2860\n",
       "Writer           2851\n",
       "Name: Occupation, dtype: int64"
      ]
     },
     "execution_count": 18,
     "metadata": {},
     "output_type": "execute_result"
    }
   ],
   "source": [
    "test['Occupation'].value_counts()"
   ]
  },
  {
   "cell_type": "code",
   "execution_count": 19,
   "id": "0b1d53bf",
   "metadata": {
    "ExecuteTime": {
     "end_time": "2023-06-13T06:55:59.589697Z",
     "start_time": "2023-06-13T06:55:59.544101Z"
    }
   },
   "outputs": [],
   "source": [
    "nan_occupation_train = train[train['Occupation'] == '_______'].index\n",
    "train.drop(nan_occupation_train, inplace = True)\n",
    "train.reset_index(drop = True, inplace = True)"
   ]
  },
  {
   "cell_type": "code",
   "execution_count": 20,
   "id": "6cb70c4b",
   "metadata": {
    "ExecuteTime": {
     "end_time": "2023-06-13T06:55:59.620737Z",
     "start_time": "2023-06-13T06:55:59.591730Z"
    }
   },
   "outputs": [],
   "source": [
    "nan_occupation_test = test[test['Occupation'] == '_______'].index\n",
    "test.drop(nan_occupation_test, inplace = True)\n",
    "test.reset_index(drop = True, inplace = True)"
   ]
  },
  {
   "cell_type": "code",
   "execution_count": 21,
   "id": "dd6e6eec",
   "metadata": {
    "ExecuteTime": {
     "end_time": "2023-06-13T06:55:59.635899Z",
     "start_time": "2023-06-13T06:55:59.623333Z"
    }
   },
   "outputs": [
    {
     "data": {
      "text/plain": [
       "Lawyer           6389\n",
       "Architect        6175\n",
       "Engineer         6171\n",
       "Scientist        6113\n",
       "Accountant       6110\n",
       "Mechanic         6099\n",
       "Media_Manager    6068\n",
       "Teacher          6049\n",
       "Developer        6031\n",
       "Entrepreneur     6014\n",
       "Doctor           5915\n",
       "Journalist       5906\n",
       "Manager          5806\n",
       "Musician         5760\n",
       "Writer           5741\n",
       "Name: Occupation, dtype: int64"
      ]
     },
     "execution_count": 21,
     "metadata": {},
     "output_type": "execute_result"
    }
   ],
   "source": [
    "train['Occupation'].value_counts()"
   ]
  },
  {
   "cell_type": "code",
   "execution_count": 22,
   "id": "c063c857",
   "metadata": {
    "ExecuteTime": {
     "end_time": "2023-06-13T06:55:59.699910Z",
     "start_time": "2023-06-13T06:55:59.636912Z"
    }
   },
   "outputs": [],
   "source": [
    "train['Occupation'] = train['Occupation'].replace({'Lawyer':1,\n",
    "                       'Architect':2,\n",
    "                       'Engineer':3,\n",
    "                       'Scientist':4,\n",
    "                       'Accountant':5,\n",
    "                       'Mechanic':6,\n",
    "                       'Media_Manager':7,\n",
    "                       'Teacher':8,\n",
    "                       'Developer':9,\n",
    "                       'Entrepreneur':10,\n",
    "                       'Doctor':11,\n",
    "                       'Journalist':12,\n",
    "                       'Manager':13,\n",
    "                       'Musician':14,\n",
    "                       'Writer':15\n",
    "                      })"
   ]
  },
  {
   "cell_type": "code",
   "execution_count": 23,
   "id": "ea003178",
   "metadata": {
    "ExecuteTime": {
     "end_time": "2023-06-13T06:55:59.715230Z",
     "start_time": "2023-06-13T06:55:59.702076Z"
    }
   },
   "outputs": [
    {
     "data": {
      "text/plain": [
       "1     6389\n",
       "2     6175\n",
       "3     6171\n",
       "4     6113\n",
       "5     6110\n",
       "6     6099\n",
       "7     6068\n",
       "8     6049\n",
       "9     6031\n",
       "10    6014\n",
       "11    5915\n",
       "12    5906\n",
       "13    5806\n",
       "14    5760\n",
       "15    5741\n",
       "Name: Occupation, dtype: int64"
      ]
     },
     "execution_count": 23,
     "metadata": {},
     "output_type": "execute_result"
    }
   ],
   "source": [
    "train['Occupation'].value_counts()"
   ]
  },
  {
   "cell_type": "code",
   "execution_count": 24,
   "id": "f011c5b3",
   "metadata": {
    "ExecuteTime": {
     "end_time": "2023-06-13T06:55:59.730820Z",
     "start_time": "2023-06-13T06:55:59.717738Z"
    }
   },
   "outputs": [
    {
     "data": {
      "text/plain": [
       "Lawyer           3245\n",
       "Engineer         3118\n",
       "Architect        3104\n",
       "Mechanic         3089\n",
       "Media_Manager    3050\n",
       "Developer        3042\n",
       "Accountant       3042\n",
       "Scientist        3017\n",
       "Teacher          3009\n",
       "Entrepreneur     3006\n",
       "Journalist       2957\n",
       "Doctor           2955\n",
       "Manager          2906\n",
       "Musician         2860\n",
       "Writer           2851\n",
       "Name: Occupation, dtype: int64"
      ]
     },
     "execution_count": 24,
     "metadata": {},
     "output_type": "execute_result"
    }
   ],
   "source": [
    "test['Occupation'].value_counts()"
   ]
  },
  {
   "cell_type": "code",
   "execution_count": 25,
   "id": "16ed6e32",
   "metadata": {
    "ExecuteTime": {
     "end_time": "2023-06-13T06:55:59.762120Z",
     "start_time": "2023-06-13T06:55:59.732747Z"
    }
   },
   "outputs": [],
   "source": [
    "test['Occupation'] = test['Occupation'].replace({'Lawyer':1,\n",
    "                       'Architect':2,\n",
    "                       'Engineer':3,\n",
    "                       'Scientist':4,\n",
    "                       'Accountant':5,\n",
    "                       'Mechanic':6,\n",
    "                       'Media_Manager':7,\n",
    "                       'Teacher':8,\n",
    "                       'Developer':9,\n",
    "                       'Entrepreneur':10,\n",
    "                       'Doctor':11,\n",
    "                       'Journalist':12,\n",
    "                       'Manager':13,\n",
    "                       'Musician':14,\n",
    "                       'Writer':15\n",
    "                      })"
   ]
  },
  {
   "cell_type": "code",
   "execution_count": 26,
   "id": "80723ea7",
   "metadata": {
    "ExecuteTime": {
     "end_time": "2023-06-13T06:55:59.778198Z",
     "start_time": "2023-06-13T06:55:59.763026Z"
    }
   },
   "outputs": [
    {
     "data": {
      "text/plain": [
       "1     3245\n",
       "3     3118\n",
       "2     3104\n",
       "6     3089\n",
       "7     3050\n",
       "9     3042\n",
       "5     3042\n",
       "4     3017\n",
       "8     3009\n",
       "10    3006\n",
       "12    2957\n",
       "11    2955\n",
       "13    2906\n",
       "14    2860\n",
       "15    2851\n",
       "Name: Occupation, dtype: int64"
      ]
     },
     "execution_count": 26,
     "metadata": {},
     "output_type": "execute_result"
    }
   ],
   "source": [
    "test['Occupation'].value_counts()"
   ]
  },
  {
   "cell_type": "markdown",
   "id": "8c09d522",
   "metadata": {},
   "source": [
    "## Annual_Income"
   ]
  },
  {
   "cell_type": "code",
   "execution_count": 27,
   "id": "55983de5",
   "metadata": {
    "ExecuteTime": {
     "end_time": "2023-06-13T06:57:21.049958Z",
     "start_time": "2023-06-13T06:55:59.780186Z"
    }
   },
   "outputs": [],
   "source": [
    "not_float_train = []\n",
    "\n",
    "for i in range(len(train)):\n",
    "    try :\n",
    "        train.loc[i, ['Annual_Income']] = float(train.loc[i, ['Annual_Income']])\n",
    "    except:\n",
    "        not_float_train.append(i)\n",
    "\n",
    "for i in not_float_train :\n",
    "    train.loc[i, ['Annual_Income']] = train.loc[i, ['Annual_Income']].str.split('_')[0][0]\n",
    "\n",
    "train['Annual_Income'] = train['Annual_Income'].astype('float')\n",
    "\n",
    "train = train.drop(train[train['Annual_Income'] < 0].index)\n",
    "\n",
    "train.reset_index(drop=True, inplace = True)"
   ]
  },
  {
   "cell_type": "code",
   "execution_count": 28,
   "id": "8b22089a",
   "metadata": {
    "ExecuteTime": {
     "end_time": "2023-06-13T06:57:54.705338Z",
     "start_time": "2023-06-13T06:57:21.050438Z"
    }
   },
   "outputs": [],
   "source": [
    "not_float_test = []\n",
    "\n",
    "for i in range(len(test)):\n",
    "    try :\n",
    "        test.loc[i, ['Annual_Income']] = float(test.loc[i, ['Annual_Income']])\n",
    "    except:\n",
    "        not_float_test.append(i)\n",
    "\n",
    "for i in not_float_test :\n",
    "    test.loc[i, ['Annual_Income']] = test.loc[i, ['Annual_Income']].str.split('_')[0][0]\n",
    "\n",
    "test['Annual_Income'] = test['Annual_Income'].astype('float')\n",
    "\n",
    "test = test.drop(test[test['Annual_Income'] < 0].index)\n",
    "\n",
    "test.reset_index(drop=True, inplace = True)"
   ]
  },
  {
   "cell_type": "code",
   "execution_count": 29,
   "id": "be034d6b",
   "metadata": {
    "ExecuteTime": {
     "end_time": "2023-06-13T06:57:54.832655Z",
     "start_time": "2023-06-13T06:57:54.706253Z"
    },
    "scrolled": false
   },
   "outputs": [
    {
     "data": {
      "text/plain": [
       "(array([8.9527e+04, 8.2000e+01, 6.6000e+01, 9.3000e+01, 9.0000e+01,\n",
       "        9.1000e+01, 9.9000e+01, 1.0200e+02, 1.0600e+02, 9.1000e+01]),\n",
       " array([7.00593000e+03, 2.42611154e+06, 4.84521714e+06, 7.26432275e+06,\n",
       "        9.68342836e+06, 1.21025340e+07, 1.45216396e+07, 1.69407452e+07,\n",
       "        1.93598508e+07, 2.17789564e+07, 2.41980620e+07]),\n",
       " <BarContainer object of 10 artists>)"
      ]
     },
     "execution_count": 29,
     "metadata": {},
     "output_type": "execute_result"
    },
    {
     "data": {
      "image/png": "[encoded data removed]",
      "text/plain": [
       "<Figure size 432x288 with 1 Axes>"
      ]
     },
     "metadata": {
      "needs_background": "light"
     },
     "output_type": "display_data"
    }
   ],
   "source": [
    "plt.hist(train['Annual_Income'])"
   ]
  },
  {
   "cell_type": "code",
   "execution_count": 30,
   "id": "13ba4f54",
   "metadata": {
    "ExecuteTime": {
     "end_time": "2023-06-13T06:57:54.878932Z",
     "start_time": "2023-06-13T06:57:54.832655Z"
    }
   },
   "outputs": [],
   "source": [
    "over_train = train[train['Annual_Income']>300000].index\n",
    "\n",
    "train.drop(over_train, inplace = True)\n",
    "train.reset_index(drop=True, inplace=True)"
   ]
  },
  {
   "cell_type": "code",
   "execution_count": 31,
   "id": "6a996895",
   "metadata": {
    "ExecuteTime": {
     "end_time": "2023-06-13T06:57:54.909707Z",
     "start_time": "2023-06-13T06:57:54.881007Z"
    }
   },
   "outputs": [],
   "source": [
    "over_test = test[test['Annual_Income']>300000].index\n",
    "test.drop(over_test, inplace = True)\n",
    "test.reset_index(drop=True, inplace=True)"
   ]
  },
  {
   "cell_type": "code",
   "execution_count": 32,
   "id": "3fae3ded",
   "metadata": {
    "ExecuteTime": {
     "end_time": "2023-06-13T06:57:55.033063Z",
     "start_time": "2023-06-13T06:57:54.911820Z"
    }
   },
   "outputs": [
    {
     "data": {
      "text/plain": [
       "<AxesSubplot:>"
      ]
     },
     "execution_count": 32,
     "metadata": {},
     "output_type": "execute_result"
    },
    {
     "data": {
      "image/png": "[encoded data removed]",
      "text/plain": [
       "<Figure size 432x288 with 1 Axes>"
      ]
     },
     "metadata": {
      "needs_background": "light"
     },
     "output_type": "display_data"
    }
   ],
   "source": [
    "train['Annual_Income'].hist()"
   ]
  },
  {
   "cell_type": "code",
   "execution_count": 33,
   "id": "0d9f1330",
   "metadata": {
    "ExecuteTime": {
     "end_time": "2023-06-13T06:57:55.112551Z",
     "start_time": "2023-06-13T06:57:55.035220Z"
    }
   },
   "outputs": [
    {
     "data": {
      "text/plain": [
       "<AxesSubplot:>"
      ]
     },
     "execution_count": 33,
     "metadata": {},
     "output_type": "execute_result"
    },
    {
     "data": {
      "image/png": "[encoded data removed]",
      "text/plain": [
       "<Figure size 432x288 with 1 Axes>"
      ]
     },
     "metadata": {
      "needs_background": "light"
     },
     "output_type": "display_data"
    }
   ],
   "source": [
    "test['Annual_Income'].hist()"
   ]
  },
  {
   "cell_type": "markdown",
   "id": "a2e71831",
   "metadata": {},
   "source": [
    "## Monthly_Inhand_Salary"
   ]
  },
  {
   "cell_type": "code",
   "execution_count": 34,
   "id": "d95fdaa8",
   "metadata": {
    "ExecuteTime": {
     "end_time": "2023-06-13T06:57:55.128748Z",
     "start_time": "2023-06-13T06:57:55.114518Z"
    }
   },
   "outputs": [
    {
     "data": {
      "text/plain": [
       "13426"
      ]
     },
     "execution_count": 34,
     "metadata": {},
     "output_type": "execute_result"
    }
   ],
   "source": [
    "train['Monthly_Inhand_Salary'].isnull().sum()"
   ]
  },
  {
   "cell_type": "code",
   "execution_count": 35,
   "id": "1253eca8",
   "metadata": {
    "ExecuteTime": {
     "end_time": "2023-06-13T06:57:55.144437Z",
     "start_time": "2023-06-13T06:57:55.129827Z"
    }
   },
   "outputs": [
    {
     "data": {
      "text/plain": [
       "6784"
      ]
     },
     "execution_count": 35,
     "metadata": {},
     "output_type": "execute_result"
    }
   ],
   "source": [
    "test['Monthly_Inhand_Salary'].isnull().sum()"
   ]
  },
  {
   "cell_type": "code",
   "execution_count": 36,
   "id": "03df6d66",
   "metadata": {
    "ExecuteTime": {
     "end_time": "2023-06-13T06:57:55.190343Z",
     "start_time": "2023-06-13T06:57:55.146629Z"
    }
   },
   "outputs": [],
   "source": [
    "train.dropna(subset='Monthly_Inhand_Salary', axis = 0, inplace = True)\n",
    "test.dropna(subset='Monthly_Inhand_Salary', axis = 0, inplace = True)"
   ]
  },
  {
   "cell_type": "code",
   "execution_count": 37,
   "id": "3eeac5a9",
   "metadata": {
    "ExecuteTime": {
     "end_time": "2023-06-13T06:57:55.205614Z",
     "start_time": "2023-06-13T06:57:55.192392Z"
    }
   },
   "outputs": [],
   "source": [
    "train.reset_index(drop=True, inplace = True)\n",
    "test.reset_index(drop=True, inplace = True)"
   ]
  },
  {
   "cell_type": "code",
   "execution_count": 38,
   "id": "173f4edc",
   "metadata": {
    "ExecuteTime": {
     "end_time": "2023-06-13T06:57:55.221441Z",
     "start_time": "2023-06-13T06:57:55.207525Z"
    }
   },
   "outputs": [
    {
     "data": {
      "text/plain": [
       "0"
      ]
     },
     "execution_count": 38,
     "metadata": {},
     "output_type": "execute_result"
    }
   ],
   "source": [
    "train['Monthly_Inhand_Salary'].isnull().sum()"
   ]
  },
  {
   "cell_type": "code",
   "execution_count": 39,
   "id": "67a7f077",
   "metadata": {
    "ExecuteTime": {
     "end_time": "2023-06-13T06:57:55.236752Z",
     "start_time": "2023-06-13T06:57:55.223646Z"
    }
   },
   "outputs": [
    {
     "data": {
      "text/plain": [
       "0"
      ]
     },
     "execution_count": 39,
     "metadata": {},
     "output_type": "execute_result"
    }
   ],
   "source": [
    "test['Monthly_Inhand_Salary'].isnull().sum()"
   ]
  },
  {
   "cell_type": "code",
   "execution_count": 40,
   "id": "ead3a395",
   "metadata": {
    "ExecuteTime": {
     "end_time": "2023-06-13T06:57:55.252859Z",
     "start_time": "2023-06-13T06:57:55.241645Z"
    }
   },
   "outputs": [
    {
     "data": {
      "text/plain": [
       "(76028, 38011)"
      ]
     },
     "execution_count": 40,
     "metadata": {},
     "output_type": "execute_result"
    }
   ],
   "source": [
    "len(train), len(test)"
   ]
  },
  {
   "cell_type": "markdown",
   "id": "da5d78a3",
   "metadata": {},
   "source": [
    "## Num_Bank_Accounts"
   ]
  },
  {
   "cell_type": "code",
   "execution_count": 41,
   "id": "b0278503",
   "metadata": {
    "ExecuteTime": {
     "end_time": "2023-06-13T06:57:55.267985Z",
     "start_time": "2023-06-13T06:57:55.253771Z"
    }
   },
   "outputs": [
    {
     "data": {
      "text/plain": [
       "0"
      ]
     },
     "execution_count": 41,
     "metadata": {},
     "output_type": "execute_result"
    }
   ],
   "source": [
    "train['Num_Bank_Accounts'].isnull().sum()"
   ]
  },
  {
   "cell_type": "code",
   "execution_count": 42,
   "id": "8f60f18a",
   "metadata": {
    "ExecuteTime": {
     "end_time": "2023-06-13T06:57:55.283509Z",
     "start_time": "2023-06-13T06:57:55.269942Z"
    }
   },
   "outputs": [
    {
     "data": {
      "text/plain": [
       "0"
      ]
     },
     "execution_count": 42,
     "metadata": {},
     "output_type": "execute_result"
    }
   ],
   "source": [
    "test['Num_Bank_Accounts'].isnull().sum()"
   ]
  },
  {
   "cell_type": "markdown",
   "id": "27cf79a4",
   "metadata": {},
   "source": [
    "## Num_Credit_Card"
   ]
  },
  {
   "cell_type": "code",
   "execution_count": 43,
   "id": "8569283e",
   "metadata": {
    "ExecuteTime": {
     "end_time": "2023-06-13T06:57:55.299510Z",
     "start_time": "2023-06-13T06:57:55.284412Z"
    }
   },
   "outputs": [
    {
     "data": {
      "text/plain": [
       "0"
      ]
     },
     "execution_count": 43,
     "metadata": {},
     "output_type": "execute_result"
    }
   ],
   "source": [
    "train['Num_Credit_Card'].isnull().sum()"
   ]
  },
  {
   "cell_type": "code",
   "execution_count": 44,
   "id": "223365f7",
   "metadata": {
    "ExecuteTime": {
     "end_time": "2023-06-13T06:57:55.315411Z",
     "start_time": "2023-06-13T06:57:55.301410Z"
    }
   },
   "outputs": [
    {
     "data": {
      "text/plain": [
       "0"
      ]
     },
     "execution_count": 44,
     "metadata": {},
     "output_type": "execute_result"
    }
   ],
   "source": [
    "test['Num_Credit_Card'].isnull().sum()"
   ]
  },
  {
   "cell_type": "markdown",
   "id": "7eff003d",
   "metadata": {},
   "source": [
    "## Interest_Rate"
   ]
  },
  {
   "cell_type": "code",
   "execution_count": 45,
   "id": "eacc59f1",
   "metadata": {
    "ExecuteTime": {
     "end_time": "2023-06-13T06:57:55.330638Z",
     "start_time": "2023-06-13T06:57:55.317418Z"
    }
   },
   "outputs": [
    {
     "data": {
      "text/plain": [
       "0"
      ]
     },
     "execution_count": 45,
     "metadata": {},
     "output_type": "execute_result"
    }
   ],
   "source": [
    "train['Interest_Rate'].isnull().sum()"
   ]
  },
  {
   "cell_type": "code",
   "execution_count": 46,
   "id": "70963332",
   "metadata": {
    "ExecuteTime": {
     "end_time": "2023-06-13T06:57:55.346637Z",
     "start_time": "2023-06-13T06:57:55.332637Z"
    }
   },
   "outputs": [
    {
     "data": {
      "text/plain": [
       "0"
      ]
     },
     "execution_count": 46,
     "metadata": {},
     "output_type": "execute_result"
    }
   ],
   "source": [
    "test['Interest_Rate'].isnull().sum()"
   ]
  },
  {
   "cell_type": "markdown",
   "id": "8b1946f1",
   "metadata": {},
   "source": [
    "## Num_of_Loan"
   ]
  },
  {
   "cell_type": "code",
   "execution_count": 47,
   "id": "485fdec0",
   "metadata": {
    "ExecuteTime": {
     "end_time": "2023-06-13T06:57:55.361917Z",
     "start_time": "2023-06-13T06:57:55.348741Z"
    }
   },
   "outputs": [
    {
     "data": {
      "text/plain": [
       "0"
      ]
     },
     "execution_count": 47,
     "metadata": {},
     "output_type": "execute_result"
    }
   ],
   "source": [
    "train['Num_of_Loan'].isnull().sum()"
   ]
  },
  {
   "cell_type": "code",
   "execution_count": 48,
   "id": "e396ef01",
   "metadata": {
    "ExecuteTime": {
     "end_time": "2023-06-13T06:57:55.377515Z",
     "start_time": "2023-06-13T06:57:55.363788Z"
    }
   },
   "outputs": [
    {
     "data": {
      "text/plain": [
       "0"
      ]
     },
     "execution_count": 48,
     "metadata": {},
     "output_type": "execute_result"
    }
   ],
   "source": [
    "test['Num_of_Loan'].isnull().sum()"
   ]
  },
  {
   "cell_type": "markdown",
   "id": "6b7968f6",
   "metadata": {},
   "source": [
    "## Type_of_Loan"
   ]
  },
  {
   "cell_type": "code",
   "execution_count": 49,
   "id": "1ff68093",
   "metadata": {
    "ExecuteTime": {
     "end_time": "2023-06-13T06:57:55.392411Z",
     "start_time": "2023-06-13T06:57:55.379409Z"
    }
   },
   "outputs": [
    {
     "data": {
      "text/plain": [
       "8571"
      ]
     },
     "execution_count": 49,
     "metadata": {},
     "output_type": "execute_result"
    }
   ],
   "source": [
    "train['Type_of_Loan'].isnull().sum()"
   ]
  },
  {
   "cell_type": "code",
   "execution_count": 50,
   "id": "18651529",
   "metadata": {
    "ExecuteTime": {
     "end_time": "2023-06-13T06:57:55.407962Z",
     "start_time": "2023-06-13T06:57:55.394413Z"
    }
   },
   "outputs": [
    {
     "data": {
      "text/plain": [
       "4372"
      ]
     },
     "execution_count": 50,
     "metadata": {},
     "output_type": "execute_result"
    }
   ],
   "source": [
    "test['Type_of_Loan'].isnull().sum()"
   ]
  },
  {
   "cell_type": "code",
   "execution_count": 51,
   "id": "086cc8e8",
   "metadata": {
    "ExecuteTime": {
     "end_time": "2023-06-13T06:57:55.439867Z",
     "start_time": "2023-06-13T06:57:55.409853Z"
    }
   },
   "outputs": [],
   "source": [
    "train.drop(columns = ['Type_of_Loan'], axis = 1, inplace = True)\n",
    "test.drop(columns = ['Type_of_Loan'], axis = 1, inplace = True)"
   ]
  },
  {
   "cell_type": "markdown",
   "id": "3ec303d7",
   "metadata": {},
   "source": [
    "## Delay_from_due_date"
   ]
  },
  {
   "cell_type": "code",
   "execution_count": 52,
   "id": "b833d8e6",
   "metadata": {
    "ExecuteTime": {
     "end_time": "2023-06-13T06:57:55.455532Z",
     "start_time": "2023-06-13T06:57:55.442069Z"
    }
   },
   "outputs": [
    {
     "data": {
      "text/plain": [
       "0"
      ]
     },
     "execution_count": 52,
     "metadata": {},
     "output_type": "execute_result"
    }
   ],
   "source": [
    "train['Delay_from_due_date'].isnull().sum()"
   ]
  },
  {
   "cell_type": "code",
   "execution_count": 53,
   "id": "916b5955",
   "metadata": {
    "ExecuteTime": {
     "end_time": "2023-06-13T06:57:55.471085Z",
     "start_time": "2023-06-13T06:57:55.456625Z"
    }
   },
   "outputs": [
    {
     "data": {
      "text/plain": [
       "0"
      ]
     },
     "execution_count": 53,
     "metadata": {},
     "output_type": "execute_result"
    }
   ],
   "source": [
    "test['Delay_from_due_date'].isnull().sum()"
   ]
  },
  {
   "cell_type": "markdown",
   "id": "f44196a5",
   "metadata": {},
   "source": [
    "## Num_of_Delayed_Payment"
   ]
  },
  {
   "cell_type": "code",
   "execution_count": 54,
   "id": "66db8529",
   "metadata": {
    "ExecuteTime": {
     "end_time": "2023-06-13T06:57:55.486664Z",
     "start_time": "2023-06-13T06:57:55.472651Z"
    }
   },
   "outputs": [
    {
     "data": {
      "text/plain": [
       "5338"
      ]
     },
     "execution_count": 54,
     "metadata": {},
     "output_type": "execute_result"
    }
   ],
   "source": [
    "train['Num_of_Delayed_Payment'].isnull().sum()"
   ]
  },
  {
   "cell_type": "code",
   "execution_count": 55,
   "id": "2a4d2351",
   "metadata": {
    "ExecuteTime": {
     "end_time": "2023-06-13T06:57:55.502009Z",
     "start_time": "2023-06-13T06:57:55.488670Z"
    }
   },
   "outputs": [
    {
     "data": {
      "text/plain": [
       "2693"
      ]
     },
     "execution_count": 55,
     "metadata": {},
     "output_type": "execute_result"
    }
   ],
   "source": [
    "test['Num_of_Delayed_Payment'].isnull().sum()"
   ]
  },
  {
   "cell_type": "code",
   "execution_count": 56,
   "id": "2bd67692",
   "metadata": {
    "ExecuteTime": {
     "end_time": "2023-06-13T06:57:55.534034Z",
     "start_time": "2023-06-13T06:57:55.503908Z"
    }
   },
   "outputs": [],
   "source": [
    "train.drop(columns = ['Num_of_Delayed_Payment'], axis = 1, inplace = True)\n",
    "test.drop(columns = ['Num_of_Delayed_Payment'], axis = 1, inplace = True)"
   ]
  },
  {
   "cell_type": "markdown",
   "id": "fe374769",
   "metadata": {},
   "source": [
    "## Changed_Credit_Limit"
   ]
  },
  {
   "cell_type": "code",
   "execution_count": 57,
   "id": "4ab4fe5f",
   "metadata": {
    "ExecuteTime": {
     "end_time": "2023-06-13T06:57:55.549343Z",
     "start_time": "2023-06-13T06:57:55.535904Z"
    }
   },
   "outputs": [
    {
     "data": {
      "text/plain": [
       "0"
      ]
     },
     "execution_count": 57,
     "metadata": {},
     "output_type": "execute_result"
    }
   ],
   "source": [
    "train['Changed_Credit_Limit'].isnull().sum()"
   ]
  },
  {
   "cell_type": "code",
   "execution_count": 58,
   "id": "92c386e4",
   "metadata": {
    "ExecuteTime": {
     "end_time": "2023-06-13T06:57:55.565251Z",
     "start_time": "2023-06-13T06:57:55.550278Z"
    }
   },
   "outputs": [
    {
     "data": {
      "text/plain": [
       "0"
      ]
     },
     "execution_count": 58,
     "metadata": {},
     "output_type": "execute_result"
    }
   ],
   "source": [
    "test['Changed_Credit_Limit'].isnull().sum()"
   ]
  },
  {
   "cell_type": "markdown",
   "id": "15d5172c",
   "metadata": {},
   "source": [
    "## Num_Credit_Inquiries"
   ]
  },
  {
   "cell_type": "code",
   "execution_count": 59,
   "id": "d46fb936",
   "metadata": {
    "ExecuteTime": {
     "end_time": "2023-06-13T06:57:55.580792Z",
     "start_time": "2023-06-13T06:57:55.567249Z"
    }
   },
   "outputs": [
    {
     "data": {
      "text/plain": [
       "1517"
      ]
     },
     "execution_count": 59,
     "metadata": {},
     "output_type": "execute_result"
    }
   ],
   "source": [
    "train['Num_Credit_Inquiries'].isnull().sum()"
   ]
  },
  {
   "cell_type": "code",
   "execution_count": 60,
   "id": "e636faf1",
   "metadata": {
    "ExecuteTime": {
     "end_time": "2023-06-13T06:57:55.596870Z",
     "start_time": "2023-06-13T06:57:55.581846Z"
    }
   },
   "outputs": [
    {
     "data": {
      "text/plain": [
       "796"
      ]
     },
     "execution_count": 60,
     "metadata": {},
     "output_type": "execute_result"
    }
   ],
   "source": [
    "test['Num_Credit_Inquiries'].isnull().sum()"
   ]
  },
  {
   "cell_type": "code",
   "execution_count": 61,
   "id": "3393611b",
   "metadata": {
    "ExecuteTime": {
     "end_time": "2023-06-13T06:57:55.628961Z",
     "start_time": "2023-06-13T06:57:55.598965Z"
    }
   },
   "outputs": [],
   "source": [
    "train.drop(columns = ['Num_Credit_Inquiries'], axis = 1, inplace = True)\n",
    "test.drop(columns = ['Num_Credit_Inquiries'], axis = 1, inplace = True)"
   ]
  },
  {
   "cell_type": "markdown",
   "id": "057d2d72",
   "metadata": {},
   "source": [
    "## Credit_Mix"
   ]
  },
  {
   "cell_type": "code",
   "execution_count": 62,
   "id": "608262d0",
   "metadata": {
    "ExecuteTime": {
     "end_time": "2023-06-13T06:57:55.644823Z",
     "start_time": "2023-06-13T06:57:55.629857Z"
    }
   },
   "outputs": [
    {
     "data": {
      "text/plain": [
       "Standard    27859\n",
       "Good        18391\n",
       "_           15353\n",
       "Bad         14425\n",
       "Name: Credit_Mix, dtype: int64"
      ]
     },
     "execution_count": 62,
     "metadata": {},
     "output_type": "execute_result"
    }
   ],
   "source": [
    "train['Credit_Mix'].value_counts()"
   ]
  },
  {
   "cell_type": "code",
   "execution_count": 63,
   "id": "88264b74",
   "metadata": {
    "ExecuteTime": {
     "end_time": "2023-06-13T06:57:55.660158Z",
     "start_time": "2023-06-13T06:57:55.646717Z"
    }
   },
   "outputs": [
    {
     "data": {
      "text/plain": [
       "Standard    13952\n",
       "Good         9326\n",
       "_            7470\n",
       "Bad          7263\n",
       "Name: Credit_Mix, dtype: int64"
      ]
     },
     "execution_count": 63,
     "metadata": {},
     "output_type": "execute_result"
    }
   ],
   "source": [
    "test['Credit_Mix'].value_counts()"
   ]
  },
  {
   "cell_type": "code",
   "execution_count": 64,
   "id": "eb83cdb7",
   "metadata": {
    "ExecuteTime": {
     "end_time": "2023-06-13T06:57:55.691683Z",
     "start_time": "2023-06-13T06:57:55.662052Z"
    }
   },
   "outputs": [],
   "source": [
    "nan_Credit_mix = train[train['Credit_Mix'] == '_'].index\n",
    "train.drop(nan_Credit_mix, inplace = True)"
   ]
  },
  {
   "cell_type": "code",
   "execution_count": 65,
   "id": "11f94cd2",
   "metadata": {
    "ExecuteTime": {
     "end_time": "2023-06-13T06:57:55.707562Z",
     "start_time": "2023-06-13T06:57:55.692576Z"
    }
   },
   "outputs": [],
   "source": [
    "nan_Credit_mix = test[test['Credit_Mix'] == '_'].index\n",
    "test.drop(nan_Credit_mix, inplace = True)"
   ]
  },
  {
   "cell_type": "code",
   "execution_count": 66,
   "id": "cdb19227",
   "metadata": {
    "ExecuteTime": {
     "end_time": "2023-06-13T06:57:55.723277Z",
     "start_time": "2023-06-13T06:57:55.708938Z"
    }
   },
   "outputs": [],
   "source": [
    "train.reset_index(drop=True, inplace = True)\n",
    "test.reset_index(drop=True, inplace = True)"
   ]
  },
  {
   "cell_type": "code",
   "execution_count": 67,
   "id": "51aa0dcb",
   "metadata": {
    "ExecuteTime": {
     "end_time": "2023-06-13T06:57:55.739131Z",
     "start_time": "2023-06-13T06:57:55.725641Z"
    }
   },
   "outputs": [
    {
     "data": {
      "text/plain": [
       "Standard    27859\n",
       "Good        18391\n",
       "Bad         14425\n",
       "Name: Credit_Mix, dtype: int64"
      ]
     },
     "execution_count": 67,
     "metadata": {},
     "output_type": "execute_result"
    }
   ],
   "source": [
    "train['Credit_Mix'].value_counts()"
   ]
  },
  {
   "cell_type": "code",
   "execution_count": 68,
   "id": "e58e50b6",
   "metadata": {
    "ExecuteTime": {
     "end_time": "2023-06-13T06:57:55.754359Z",
     "start_time": "2023-06-13T06:57:55.741462Z"
    }
   },
   "outputs": [
    {
     "data": {
      "text/plain": [
       "Standard    13952\n",
       "Good         9326\n",
       "Bad          7263\n",
       "Name: Credit_Mix, dtype: int64"
      ]
     },
     "execution_count": 68,
     "metadata": {},
     "output_type": "execute_result"
    }
   ],
   "source": [
    "test['Credit_Mix'].value_counts()"
   ]
  },
  {
   "cell_type": "code",
   "execution_count": 69,
   "id": "c56392b7",
   "metadata": {
    "ExecuteTime": {
     "end_time": "2023-06-13T06:59:12.124479Z",
     "start_time": "2023-06-13T06:59:12.090267Z"
    }
   },
   "outputs": [],
   "source": [
    "train['Credit_Mix'] = train['Credit_Mix'].replace({\n",
    "    'Standard':0,\n",
    "    'Good':1,\n",
    "    'Bad':-1})"
   ]
  },
  {
   "cell_type": "code",
   "execution_count": 70,
   "id": "2fe8da43",
   "metadata": {
    "ExecuteTime": {
     "end_time": "2023-06-13T06:59:12.639332Z",
     "start_time": "2023-06-13T06:59:12.613363Z"
    }
   },
   "outputs": [],
   "source": [
    "test['Credit_Mix'] = test['Credit_Mix'].replace({\n",
    "    'Standard':0,\n",
    "    'Good':1,\n",
    "    'Bad':-1})"
   ]
  },
  {
   "cell_type": "code",
   "execution_count": 71,
   "id": "f9eedd64",
   "metadata": {
    "ExecuteTime": {
     "end_time": "2023-06-13T06:59:12.966936Z",
     "start_time": "2023-06-13T06:59:12.959691Z"
    }
   },
   "outputs": [
    {
     "data": {
      "text/plain": [
       " 0    27859\n",
       " 1    18391\n",
       "-1    14425\n",
       "Name: Credit_Mix, dtype: int64"
      ]
     },
     "execution_count": 71,
     "metadata": {},
     "output_type": "execute_result"
    }
   ],
   "source": [
    "train['Credit_Mix'].value_counts()"
   ]
  },
  {
   "cell_type": "code",
   "execution_count": 72,
   "id": "ff2cf065",
   "metadata": {
    "ExecuteTime": {
     "end_time": "2023-06-13T06:59:13.168962Z",
     "start_time": "2023-06-13T06:59:13.162666Z"
    }
   },
   "outputs": [
    {
     "data": {
      "text/plain": [
       " 0    13952\n",
       " 1     9326\n",
       "-1     7263\n",
       "Name: Credit_Mix, dtype: int64"
      ]
     },
     "execution_count": 72,
     "metadata": {},
     "output_type": "execute_result"
    }
   ],
   "source": [
    "test['Credit_Mix'].value_counts()"
   ]
  },
  {
   "cell_type": "markdown",
   "id": "855dc8ae",
   "metadata": {},
   "source": [
    "## Outstanding_Debt"
   ]
  },
  {
   "cell_type": "code",
   "execution_count": 73,
   "id": "86950dcd",
   "metadata": {
    "ExecuteTime": {
     "end_time": "2023-06-13T06:59:13.651010Z",
     "start_time": "2023-06-13T06:59:13.638069Z"
    }
   },
   "outputs": [
    {
     "data": {
      "text/plain": [
       "0"
      ]
     },
     "execution_count": 73,
     "metadata": {},
     "output_type": "execute_result"
    }
   ],
   "source": [
    "train['Outstanding_Debt'].isnull().sum()"
   ]
  },
  {
   "cell_type": "code",
   "execution_count": 74,
   "id": "93507179",
   "metadata": {
    "ExecuteTime": {
     "end_time": "2023-06-13T06:59:14.086770Z",
     "start_time": "2023-06-13T06:59:14.077337Z"
    }
   },
   "outputs": [
    {
     "data": {
      "text/plain": [
       "0"
      ]
     },
     "execution_count": 74,
     "metadata": {},
     "output_type": "execute_result"
    }
   ],
   "source": [
    "test['Outstanding_Debt'].isnull().sum()"
   ]
  },
  {
   "cell_type": "markdown",
   "id": "c129536f",
   "metadata": {},
   "source": [
    "## Credit_Utilization_Ratio"
   ]
  },
  {
   "cell_type": "code",
   "execution_count": 75,
   "id": "29aed7a7",
   "metadata": {
    "ExecuteTime": {
     "end_time": "2023-06-13T06:59:14.490768Z",
     "start_time": "2023-06-13T06:59:14.480970Z"
    }
   },
   "outputs": [
    {
     "data": {
      "text/plain": [
       "0"
      ]
     },
     "execution_count": 75,
     "metadata": {},
     "output_type": "execute_result"
    }
   ],
   "source": [
    "train['Credit_Utilization_Ratio'].isnull().sum()"
   ]
  },
  {
   "cell_type": "code",
   "execution_count": 76,
   "id": "f703a3b0",
   "metadata": {
    "ExecuteTime": {
     "end_time": "2023-06-13T06:59:14.694576Z",
     "start_time": "2023-06-13T06:59:14.681306Z"
    }
   },
   "outputs": [
    {
     "data": {
      "text/plain": [
       "0"
      ]
     },
     "execution_count": 76,
     "metadata": {},
     "output_type": "execute_result"
    }
   ],
   "source": [
    "test['Credit_Utilization_Ratio'].isnull().sum()"
   ]
  },
  {
   "cell_type": "markdown",
   "id": "34fb71b3",
   "metadata": {},
   "source": [
    "## Credit_History_Age"
   ]
  },
  {
   "cell_type": "code",
   "execution_count": 77,
   "id": "3f187a75",
   "metadata": {
    "ExecuteTime": {
     "end_time": "2023-06-13T06:59:15.239161Z",
     "start_time": "2023-06-13T06:59:15.203610Z"
    }
   },
   "outputs": [],
   "source": [
    "train = train.dropna(subset='Credit_History_Age')\n",
    "test = test.dropna(subset='Credit_History_Age')\n",
    "train.reset_index(drop=True, inplace = True)\n",
    "test.reset_index(drop=True, inplace = True)"
   ]
  },
  {
   "cell_type": "code",
   "execution_count": 78,
   "id": "3cb9d31e",
   "metadata": {
    "ExecuteTime": {
     "end_time": "2023-06-13T06:59:15.408760Z",
     "start_time": "2023-06-13T06:59:15.395341Z"
    }
   },
   "outputs": [
    {
     "data": {
      "text/plain": [
       "0"
      ]
     },
     "execution_count": 78,
     "metadata": {},
     "output_type": "execute_result"
    }
   ],
   "source": [
    "train['Credit_History_Age'].isnull().sum()"
   ]
  },
  {
   "cell_type": "code",
   "execution_count": 79,
   "id": "55cb40f0",
   "metadata": {
    "ExecuteTime": {
     "end_time": "2023-06-13T06:59:15.595561Z",
     "start_time": "2023-06-13T06:59:15.578499Z"
    }
   },
   "outputs": [
    {
     "data": {
      "text/plain": [
       "0"
      ]
     },
     "execution_count": 79,
     "metadata": {},
     "output_type": "execute_result"
    }
   ],
   "source": [
    "test['Credit_History_Age'].isnull().sum()"
   ]
  },
  {
   "cell_type": "code",
   "execution_count": 80,
   "id": "b43f3acd",
   "metadata": {
    "ExecuteTime": {
     "end_time": "2023-06-13T06:59:16.001778Z",
     "start_time": "2023-06-13T06:59:15.756470Z"
    }
   },
   "outputs": [],
   "source": [
    "train['Credit_History_Age'] = train['Credit_History_Age'].str.split(expand=True)[0].astype('float') + train['Credit_History_Age'].str.split(expand=True)[3].astype('float')"
   ]
  },
  {
   "cell_type": "code",
   "execution_count": 81,
   "id": "ccdee8bf",
   "metadata": {
    "ExecuteTime": {
     "end_time": "2023-06-13T06:59:16.285098Z",
     "start_time": "2023-06-13T06:59:16.127414Z"
    }
   },
   "outputs": [],
   "source": [
    "test['Credit_History_Age'] = test['Credit_History_Age'].str.split(expand=True)[0].astype('float') + test['Credit_History_Age'].str.split(expand=True)[3].astype('float')"
   ]
  },
  {
   "cell_type": "markdown",
   "id": "5bd97afd",
   "metadata": {},
   "source": [
    "## Payment_of_Min_Amount"
   ]
  },
  {
   "cell_type": "code",
   "execution_count": 82,
   "id": "01463692",
   "metadata": {
    "ExecuteTime": {
     "end_time": "2023-06-13T06:59:16.425819Z",
     "start_time": "2023-06-13T06:59:16.412842Z"
    }
   },
   "outputs": [
    {
     "data": {
      "text/plain": [
       "Yes    28898\n",
       "No     19669\n",
       "NM      6589\n",
       "Name: Payment_of_Min_Amount, dtype: int64"
      ]
     },
     "execution_count": 82,
     "metadata": {},
     "output_type": "execute_result"
    }
   ],
   "source": [
    "train['Payment_of_Min_Amount'].value_counts()"
   ]
  },
  {
   "cell_type": "code",
   "execution_count": 83,
   "id": "5f1d8497",
   "metadata": {
    "ExecuteTime": {
     "end_time": "2023-06-13T06:59:16.565718Z",
     "start_time": "2023-06-13T06:59:16.553352Z"
    }
   },
   "outputs": [
    {
     "data": {
      "text/plain": [
       "Yes    14480\n",
       "No      9978\n",
       "NM      3361\n",
       "Name: Payment_of_Min_Amount, dtype: int64"
      ]
     },
     "execution_count": 83,
     "metadata": {},
     "output_type": "execute_result"
    }
   ],
   "source": [
    "test['Payment_of_Min_Amount'].value_counts()"
   ]
  },
  {
   "cell_type": "code",
   "execution_count": 84,
   "id": "f6b5bd4c",
   "metadata": {
    "ExecuteTime": {
     "end_time": "2023-06-13T06:59:16.722880Z",
     "start_time": "2023-06-13T06:59:16.692877Z"
    }
   },
   "outputs": [],
   "source": [
    "nan_POM_train = train[train['Payment_of_Min_Amount']=='NM'].index\n",
    "train.drop(nan_POM_train, inplace = True)"
   ]
  },
  {
   "cell_type": "code",
   "execution_count": 85,
   "id": "81c1889c",
   "metadata": {
    "ExecuteTime": {
     "end_time": "2023-06-13T06:59:16.909134Z",
     "start_time": "2023-06-13T06:59:16.888354Z"
    }
   },
   "outputs": [],
   "source": [
    "nan_POM_test = test[test['Payment_of_Min_Amount']=='NM'].index\n",
    "test.drop(nan_POM_test, inplace = True)"
   ]
  },
  {
   "cell_type": "code",
   "execution_count": 86,
   "id": "6da4a9c9",
   "metadata": {
    "ExecuteTime": {
     "end_time": "2023-06-13T06:59:17.097473Z",
     "start_time": "2023-06-13T06:59:17.080150Z"
    }
   },
   "outputs": [],
   "source": [
    "train.reset_index(drop=True, inplace = True)\n",
    "test.reset_index(drop=True, inplace = True)"
   ]
  },
  {
   "cell_type": "code",
   "execution_count": 87,
   "id": "2a343f41",
   "metadata": {
    "ExecuteTime": {
     "end_time": "2023-06-13T06:59:17.284473Z",
     "start_time": "2023-06-13T06:59:17.271122Z"
    }
   },
   "outputs": [
    {
     "data": {
      "text/plain": [
       "Yes    28898\n",
       "No     19669\n",
       "Name: Payment_of_Min_Amount, dtype: int64"
      ]
     },
     "execution_count": 87,
     "metadata": {},
     "output_type": "execute_result"
    }
   ],
   "source": [
    "train['Payment_of_Min_Amount'].value_counts() "
   ]
  },
  {
   "cell_type": "code",
   "execution_count": 88,
   "id": "a9cad6a4",
   "metadata": {
    "ExecuteTime": {
     "end_time": "2023-06-13T06:59:17.470696Z",
     "start_time": "2023-06-13T06:59:17.458938Z"
    }
   },
   "outputs": [
    {
     "data": {
      "text/plain": [
       "Yes    14480\n",
       "No      9978\n",
       "Name: Payment_of_Min_Amount, dtype: int64"
      ]
     },
     "execution_count": 88,
     "metadata": {},
     "output_type": "execute_result"
    }
   ],
   "source": [
    "test['Payment_of_Min_Amount'].value_counts()"
   ]
  },
  {
   "cell_type": "code",
   "execution_count": 89,
   "id": "bfc7916d",
   "metadata": {
    "ExecuteTime": {
     "end_time": "2023-06-13T06:59:17.673924Z",
     "start_time": "2023-06-13T06:59:17.642764Z"
    }
   },
   "outputs": [],
   "source": [
    "train['Payment_of_Min_Amount'] = train['Payment_of_Min_Amount'].replace({\n",
    "    'Yes':1,\n",
    "    'No':0\n",
    "})"
   ]
  },
  {
   "cell_type": "code",
   "execution_count": 90,
   "id": "edd66ef4",
   "metadata": {
    "ExecuteTime": {
     "end_time": "2023-06-13T06:59:18.282497Z",
     "start_time": "2023-06-13T06:59:18.253975Z"
    }
   },
   "outputs": [],
   "source": [
    "test['Payment_of_Min_Amount'] = test['Payment_of_Min_Amount'].replace({\n",
    "    'Yes':1,\n",
    "    'No':0\n",
    "})"
   ]
  },
  {
   "cell_type": "code",
   "execution_count": 91,
   "id": "3b619a76",
   "metadata": {
    "ExecuteTime": {
     "end_time": "2023-06-13T06:59:18.484936Z",
     "start_time": "2023-06-13T06:59:18.474194Z"
    }
   },
   "outputs": [
    {
     "data": {
      "text/plain": [
       "1    28898\n",
       "0    19669\n",
       "Name: Payment_of_Min_Amount, dtype: int64"
      ]
     },
     "execution_count": 91,
     "metadata": {},
     "output_type": "execute_result"
    }
   ],
   "source": [
    "train['Payment_of_Min_Amount'].value_counts() "
   ]
  },
  {
   "cell_type": "code",
   "execution_count": 92,
   "id": "63d28022",
   "metadata": {
    "ExecuteTime": {
     "end_time": "2023-06-13T06:59:18.670492Z",
     "start_time": "2023-06-13T06:59:18.660532Z"
    }
   },
   "outputs": [
    {
     "data": {
      "text/plain": [
       "1    14480\n",
       "0     9978\n",
       "Name: Payment_of_Min_Amount, dtype: int64"
      ]
     },
     "execution_count": 92,
     "metadata": {},
     "output_type": "execute_result"
    }
   ],
   "source": [
    "test['Payment_of_Min_Amount'].value_counts()"
   ]
  },
  {
   "cell_type": "markdown",
   "id": "754043ed",
   "metadata": {},
   "source": [
    "## Total_EMI_per_month"
   ]
  },
  {
   "cell_type": "code",
   "execution_count": 93,
   "id": "465a60bc",
   "metadata": {
    "ExecuteTime": {
     "end_time": "2023-06-13T06:59:58.072380Z",
     "start_time": "2023-06-13T06:59:19.025718Z"
    }
   },
   "outputs": [],
   "source": [
    "not_float_train = []\n",
    "\n",
    "for i in range(len(train)):\n",
    "    try :\n",
    "        train.loc[i, ['Total_EMI_per_month']] = float(train.loc[i, ['Total_EMI_per_month']])\n",
    "    except:\n",
    "        not_float_train.append(i)"
   ]
  },
  {
   "cell_type": "code",
   "execution_count": 94,
   "id": "86790f89",
   "metadata": {
    "ExecuteTime": {
     "end_time": "2023-06-13T07:00:15.439599Z",
     "start_time": "2023-06-13T06:59:58.198071Z"
    }
   },
   "outputs": [],
   "source": [
    "not_float_test = []\n",
    "\n",
    "for i in range(len(test)):\n",
    "    try :\n",
    "        test.loc[i, ['Total_EMI_per_month']] = float(test.loc[i, ['Total_EMI_per_month']])\n",
    "    except:\n",
    "        not_float_test.append(i)"
   ]
  },
  {
   "cell_type": "code",
   "execution_count": 95,
   "id": "f0809194",
   "metadata": {
    "ExecuteTime": {
     "end_time": "2023-06-13T07:00:15.565843Z",
     "start_time": "2023-06-13T07:00:15.550303Z"
    }
   },
   "outputs": [
    {
     "data": {
      "text/plain": [
       "0"
      ]
     },
     "execution_count": 95,
     "metadata": {},
     "output_type": "execute_result"
    }
   ],
   "source": [
    "train['Total_EMI_per_month'].isnull().sum()"
   ]
  },
  {
   "cell_type": "code",
   "execution_count": 96,
   "id": "b66a6165",
   "metadata": {
    "ExecuteTime": {
     "end_time": "2023-06-13T07:00:15.704298Z",
     "start_time": "2023-06-13T07:00:15.691473Z"
    }
   },
   "outputs": [
    {
     "data": {
      "text/plain": [
       "0"
      ]
     },
     "execution_count": 96,
     "metadata": {},
     "output_type": "execute_result"
    }
   ],
   "source": [
    "test['Total_EMI_per_month'].isnull().sum()"
   ]
  },
  {
   "cell_type": "markdown",
   "id": "73d759fe",
   "metadata": {},
   "source": [
    "## Amount_invested_monthly"
   ]
  },
  {
   "cell_type": "code",
   "execution_count": 97,
   "id": "4a59a885",
   "metadata": {
    "ExecuteTime": {
     "end_time": "2023-06-13T07:00:52.170290Z",
     "start_time": "2023-06-13T07:00:15.831106Z"
    }
   },
   "outputs": [],
   "source": [
    "not_float_train = []\n",
    "\n",
    "for i in range(len(train)):\n",
    "    try :\n",
    "        train.loc[i, ['Amount_invested_monthly']] = float(train.loc[i, ['Amount_invested_monthly']])\n",
    "    except:\n",
    "        not_float_train.append(i)"
   ]
  },
  {
   "cell_type": "code",
   "execution_count": 98,
   "id": "761f8794",
   "metadata": {
    "ExecuteTime": {
     "end_time": "2023-06-13T07:00:52.310956Z",
     "start_time": "2023-06-13T07:00:52.297185Z"
    }
   },
   "outputs": [
    {
     "data": {
      "text/plain": [
       "2061"
      ]
     },
     "execution_count": 98,
     "metadata": {},
     "output_type": "execute_result"
    }
   ],
   "source": [
    "len(not_float_train)"
   ]
  },
  {
   "cell_type": "code",
   "execution_count": 99,
   "id": "d47fadd2",
   "metadata": {
    "ExecuteTime": {
     "end_time": "2023-06-13T07:00:52.798692Z",
     "start_time": "2023-06-13T07:00:52.485347Z"
    }
   },
   "outputs": [
    {
     "name": "stderr",
     "output_type": "stream",
     "text": [
      "C:\\Users\\USER\\AppData\\Local\\Temp\\ipykernel_19028\\3189881042.py:1: SettingWithCopyWarning: \n",
      "A value is trying to be set on a copy of a slice from a DataFrame\n",
      "\n",
      "See the caveats in the documentation: https://pandas.pydata.org/pandas-docs/stable/user_guide/indexing.html#returning-a-view-versus-a-copy\n",
      "  train['Amount_invested_monthly'][not_float_train] = train['Amount_invested_monthly'][not_float_train].str.split('__', expand=True)[1]\n"
     ]
    }
   ],
   "source": [
    "train['Amount_invested_monthly'][not_float_train] = train['Amount_invested_monthly'][not_float_train].str.split('__', expand=True)[1]"
   ]
  },
  {
   "cell_type": "code",
   "execution_count": 100,
   "id": "82eee585",
   "metadata": {
    "ExecuteTime": {
     "end_time": "2023-06-13T07:00:52.938168Z",
     "start_time": "2023-06-13T07:00:52.924792Z"
    }
   },
   "outputs": [],
   "source": [
    "train['Amount_invested_monthly'] = train['Amount_invested_monthly'].astype('float')"
   ]
  },
  {
   "cell_type": "code",
   "execution_count": 101,
   "id": "77a79170",
   "metadata": {
    "ExecuteTime": {
     "end_time": "2023-06-13T07:01:13.881250Z",
     "start_time": "2023-06-13T07:00:53.065475Z"
    }
   },
   "outputs": [],
   "source": [
    "not_float_test = []\n",
    "\n",
    "for i in range(len(test)):\n",
    "    try :\n",
    "        test.loc[i, ['Amount_invested_monthly']] = float(test.loc[i, ['Amount_invested_monthly']])\n",
    "    except:\n",
    "        not_float_test.append(i)"
   ]
  },
  {
   "cell_type": "code",
   "execution_count": 102,
   "id": "aa3de716",
   "metadata": {
    "ExecuteTime": {
     "end_time": "2023-06-13T07:01:14.023429Z",
     "start_time": "2023-06-13T07:01:14.009292Z"
    }
   },
   "outputs": [
    {
     "data": {
      "text/plain": [
       "1018"
      ]
     },
     "execution_count": 102,
     "metadata": {},
     "output_type": "execute_result"
    }
   ],
   "source": [
    "len(not_float_test)"
   ]
  },
  {
   "cell_type": "code",
   "execution_count": 103,
   "id": "3e53e9bf",
   "metadata": {
    "ExecuteTime": {
     "end_time": "2023-06-13T07:01:14.180496Z",
     "start_time": "2023-06-13T07:01:14.149921Z"
    }
   },
   "outputs": [
    {
     "name": "stderr",
     "output_type": "stream",
     "text": [
      "C:\\Users\\USER\\AppData\\Local\\Temp\\ipykernel_19028\\3316351032.py:1: SettingWithCopyWarning: \n",
      "A value is trying to be set on a copy of a slice from a DataFrame\n",
      "\n",
      "See the caveats in the documentation: https://pandas.pydata.org/pandas-docs/stable/user_guide/indexing.html#returning-a-view-versus-a-copy\n",
      "  test['Amount_invested_monthly'][not_float_test] = test['Amount_invested_monthly'][not_float_test].str.split('__', expand=True)[1]\n"
     ]
    }
   ],
   "source": [
    "test['Amount_invested_monthly'][not_float_test] = test['Amount_invested_monthly'][not_float_test].str.split('__', expand=True)[1]"
   ]
  },
  {
   "cell_type": "code",
   "execution_count": 104,
   "id": "f9832f15",
   "metadata": {
    "ExecuteTime": {
     "end_time": "2023-06-13T07:01:14.322177Z",
     "start_time": "2023-06-13T07:01:14.308304Z"
    }
   },
   "outputs": [],
   "source": [
    "test['Amount_invested_monthly'] = test['Amount_invested_monthly'].astype('float')"
   ]
  },
  {
   "cell_type": "code",
   "execution_count": 105,
   "id": "16fcf315",
   "metadata": {
    "ExecuteTime": {
     "end_time": "2023-06-13T07:01:14.463376Z",
     "start_time": "2023-06-13T07:01:14.449303Z"
    }
   },
   "outputs": [
    {
     "data": {
      "text/plain": [
       "2163"
      ]
     },
     "execution_count": 105,
     "metadata": {},
     "output_type": "execute_result"
    }
   ],
   "source": [
    "train['Amount_invested_monthly'].isnull().sum()"
   ]
  },
  {
   "cell_type": "code",
   "execution_count": 106,
   "id": "61c31a87",
   "metadata": {
    "ExecuteTime": {
     "end_time": "2023-06-13T07:01:14.602668Z",
     "start_time": "2023-06-13T07:01:14.587958Z"
    }
   },
   "outputs": [
    {
     "data": {
      "text/plain": [
       "1095"
      ]
     },
     "execution_count": 106,
     "metadata": {},
     "output_type": "execute_result"
    }
   ],
   "source": [
    "test['Amount_invested_monthly'].isnull().sum()"
   ]
  },
  {
   "cell_type": "code",
   "execution_count": 107,
   "id": "cc0bc320",
   "metadata": {
    "ExecuteTime": {
     "end_time": "2023-06-13T07:01:14.757810Z",
     "start_time": "2023-06-13T07:01:14.727915Z"
    }
   },
   "outputs": [],
   "source": [
    "train.dropna(subset='Amount_invested_monthly', inplace = True)\n",
    "test.dropna(subset='Amount_invested_monthly', inplace = True)"
   ]
  },
  {
   "cell_type": "code",
   "execution_count": 108,
   "id": "4c61274f",
   "metadata": {
    "ExecuteTime": {
     "end_time": "2023-06-13T07:01:14.897738Z",
     "start_time": "2023-06-13T07:01:14.883111Z"
    }
   },
   "outputs": [],
   "source": [
    "train.reset_index(drop=True, inplace = True)\n",
    "test.reset_index(drop=True, inplace = True)"
   ]
  },
  {
   "cell_type": "code",
   "execution_count": 109,
   "id": "e5379c7c",
   "metadata": {
    "ExecuteTime": {
     "end_time": "2023-06-13T07:01:15.035586Z",
     "start_time": "2023-06-13T07:01:15.022388Z"
    }
   },
   "outputs": [
    {
     "data": {
      "text/plain": [
       "0"
      ]
     },
     "execution_count": 109,
     "metadata": {},
     "output_type": "execute_result"
    }
   ],
   "source": [
    "train['Amount_invested_monthly'].isnull().sum()"
   ]
  },
  {
   "cell_type": "code",
   "execution_count": 110,
   "id": "5fbad86d",
   "metadata": {
    "ExecuteTime": {
     "end_time": "2023-06-13T07:01:15.176859Z",
     "start_time": "2023-06-13T07:01:15.163378Z"
    }
   },
   "outputs": [
    {
     "data": {
      "text/plain": [
       "0"
      ]
     },
     "execution_count": 110,
     "metadata": {},
     "output_type": "execute_result"
    }
   ],
   "source": [
    "test['Amount_invested_monthly'].isnull().sum()"
   ]
  },
  {
   "cell_type": "markdown",
   "id": "cacaff9e",
   "metadata": {},
   "source": [
    "## Payment_Behaviour"
   ]
  },
  {
   "cell_type": "code",
   "execution_count": 111,
   "id": "9bb1c377",
   "metadata": {
    "ExecuteTime": {
     "end_time": "2023-06-13T07:01:15.316602Z",
     "start_time": "2023-06-13T07:01:15.302958Z"
    }
   },
   "outputs": [
    {
     "data": {
      "text/plain": [
       "Low_spent_Small_value_payments      11904\n",
       "High_spent_Medium_value_payments     8170\n",
       "Low_spent_Medium_value_payments      6434\n",
       "High_spent_Large_value_payments      6380\n",
       "High_spent_Small_value_payments      5223\n",
       "Low_spent_Large_value_payments       4802\n",
       "!@9#%8                               3491\n",
       "Name: Payment_Behaviour, dtype: int64"
      ]
     },
     "execution_count": 111,
     "metadata": {},
     "output_type": "execute_result"
    }
   ],
   "source": [
    "train['Payment_Behaviour'].value_counts()"
   ]
  },
  {
   "cell_type": "code",
   "execution_count": 112,
   "id": "93e9ffe8",
   "metadata": {
    "ExecuteTime": {
     "end_time": "2023-06-13T07:01:15.457225Z",
     "start_time": "2023-06-13T07:01:15.443473Z"
    }
   },
   "outputs": [
    {
     "data": {
      "text/plain": [
       "Low_spent_Small_value_payments      5895\n",
       "High_spent_Medium_value_payments    4125\n",
       "High_spent_Large_value_payments     3235\n",
       "Low_spent_Medium_value_payments     3149\n",
       "High_spent_Small_value_payments     2664\n",
       "Low_spent_Large_value_payments      2494\n",
       "!@9#%8                              1801\n",
       "Name: Payment_Behaviour, dtype: int64"
      ]
     },
     "execution_count": 112,
     "metadata": {},
     "output_type": "execute_result"
    }
   ],
   "source": [
    "test['Payment_Behaviour'].value_counts()"
   ]
  },
  {
   "cell_type": "code",
   "execution_count": 113,
   "id": "21fbbb04",
   "metadata": {
    "ExecuteTime": {
     "end_time": "2023-06-13T07:01:15.611773Z",
     "start_time": "2023-06-13T07:01:15.583497Z"
    }
   },
   "outputs": [],
   "source": [
    "train['Payment_Behaviour'] = train['Payment_Behaviour'].replace({\n",
    "    'Low_spent_Small_value_payments':11,\n",
    "    'Low_spent_Medium_value_payments':12,\n",
    "    'Low_spent_Large_value_payments':13,\n",
    "    'High_spent_Small_value_payments':21,\n",
    "    'High_spent_Medium_value_payments':22,\n",
    "    'High_spent_Large_value_payments':23\n",
    "})"
   ]
  },
  {
   "cell_type": "code",
   "execution_count": 114,
   "id": "1a2ef93f",
   "metadata": {
    "ExecuteTime": {
     "end_time": "2023-06-13T07:01:15.753468Z",
     "start_time": "2023-06-13T07:01:15.738969Z"
    }
   },
   "outputs": [],
   "source": [
    "test['Payment_Behaviour'] = test['Payment_Behaviour'].replace({\n",
    "    'Low_spent_Small_value_payments':11,\n",
    "    'Low_spent_Medium_value_payments':12,\n",
    "    'Low_spent_Large_value_payments':13,\n",
    "    'High_spent_Small_value_payments':21,\n",
    "    'High_spent_Medium_value_payments':22,\n",
    "    'High_spent_Large_value_payments':23\n",
    "})"
   ]
  },
  {
   "cell_type": "code",
   "execution_count": 115,
   "id": "ec402b5f",
   "metadata": {
    "ExecuteTime": {
     "end_time": "2023-06-13T07:01:15.909220Z",
     "start_time": "2023-06-13T07:01:15.879738Z"
    }
   },
   "outputs": [],
   "source": [
    "nan_train_PB = train[train['Payment_Behaviour'] =='!@9#%8'].index\n",
    "train.drop(nan_train_PB, inplace= True)"
   ]
  },
  {
   "cell_type": "code",
   "execution_count": 116,
   "id": "d1d857d4",
   "metadata": {
    "ExecuteTime": {
     "end_time": "2023-06-13T07:01:16.048886Z",
     "start_time": "2023-06-13T07:01:16.035256Z"
    }
   },
   "outputs": [],
   "source": [
    "nan_test_PB = test[test['Payment_Behaviour'] =='!@9#%8'].index\n",
    "test.drop(nan_test_PB, inplace= True)"
   ]
  },
  {
   "cell_type": "code",
   "execution_count": 117,
   "id": "3e9cf1f0",
   "metadata": {
    "ExecuteTime": {
     "end_time": "2023-06-13T07:01:16.190101Z",
     "start_time": "2023-06-13T07:01:16.176075Z"
    }
   },
   "outputs": [],
   "source": [
    "train.reset_index(drop=True, inplace = True)\n",
    "test.reset_index(drop=True, inplace = True)"
   ]
  },
  {
   "cell_type": "code",
   "execution_count": 118,
   "id": "09ce9080",
   "metadata": {
    "ExecuteTime": {
     "end_time": "2023-06-13T07:01:16.331147Z",
     "start_time": "2023-06-13T07:01:16.317633Z"
    }
   },
   "outputs": [
    {
     "data": {
      "text/plain": [
       "11    11904\n",
       "22     8170\n",
       "12     6434\n",
       "23     6380\n",
       "21     5223\n",
       "13     4802\n",
       "Name: Payment_Behaviour, dtype: int64"
      ]
     },
     "execution_count": 118,
     "metadata": {},
     "output_type": "execute_result"
    }
   ],
   "source": [
    "train['Payment_Behaviour'].value_counts()"
   ]
  },
  {
   "cell_type": "code",
   "execution_count": 119,
   "id": "4a825d9b",
   "metadata": {
    "ExecuteTime": {
     "end_time": "2023-06-13T07:01:16.471970Z",
     "start_time": "2023-06-13T07:01:16.458216Z"
    }
   },
   "outputs": [
    {
     "data": {
      "text/plain": [
       "11    5895\n",
       "22    4125\n",
       "23    3235\n",
       "12    3149\n",
       "21    2664\n",
       "13    2494\n",
       "Name: Payment_Behaviour, dtype: int64"
      ]
     },
     "execution_count": 119,
     "metadata": {},
     "output_type": "execute_result"
    }
   ],
   "source": [
    "test['Payment_Behaviour'].value_counts()"
   ]
  },
  {
   "cell_type": "markdown",
   "id": "79a762be",
   "metadata": {},
   "source": [
    "## Monthly_Balance"
   ]
  },
  {
   "cell_type": "code",
   "execution_count": 120,
   "id": "1bdee7c1",
   "metadata": {
    "ExecuteTime": {
     "end_time": "2023-06-13T07:01:56.005464Z",
     "start_time": "2023-06-13T07:01:16.599613Z"
    }
   },
   "outputs": [],
   "source": [
    "not_float_train = []\n",
    "\n",
    "for i in range(len(train)):\n",
    "    try :\n",
    "        train.loc[i, ['Monthly_Balance']] = float(train.loc[i, ['Monthly_Balance']])\n",
    "    except:\n",
    "        not_float_train.append(i)"
   ]
  },
  {
   "cell_type": "code",
   "execution_count": 121,
   "id": "b808cb71",
   "metadata": {
    "ExecuteTime": {
     "end_time": "2023-06-13T07:01:56.161440Z",
     "start_time": "2023-06-13T07:01:56.147801Z"
    }
   },
   "outputs": [
    {
     "data": {
      "text/plain": [
       "2362     __-333333333333333333333333333__\n",
       "11294    __-333333333333333333333333333__\n",
       "12555    __-333333333333333333333333333__\n",
       "Name: Monthly_Balance, dtype: object"
      ]
     },
     "execution_count": 121,
     "metadata": {},
     "output_type": "execute_result"
    }
   ],
   "source": [
    "train['Monthly_Balance'][not_float_train]"
   ]
  },
  {
   "cell_type": "code",
   "execution_count": 122,
   "id": "404d8c64",
   "metadata": {
    "ExecuteTime": {
     "end_time": "2023-06-13T07:01:56.302579Z",
     "start_time": "2023-06-13T07:01:56.288755Z"
    }
   },
   "outputs": [],
   "source": [
    "train.drop(not_float_train, inplace = True)"
   ]
  },
  {
   "cell_type": "code",
   "execution_count": 123,
   "id": "d51ad905",
   "metadata": {
    "ExecuteTime": {
     "end_time": "2023-06-13T07:02:12.627838Z",
     "start_time": "2023-06-13T07:01:56.428753Z"
    }
   },
   "outputs": [],
   "source": [
    "not_float_test = []\n",
    "\n",
    "for i in range(len(test)):\n",
    "    try :\n",
    "        test.loc[i, ['Monthly_Balance']] = float(test.loc[i, ['Monthly_Balance']])\n",
    "    except:\n",
    "        not_float_test.append(i)"
   ]
  },
  {
   "cell_type": "code",
   "execution_count": 124,
   "id": "01cbd75e",
   "metadata": {
    "ExecuteTime": {
     "end_time": "2023-06-13T07:02:12.766325Z",
     "start_time": "2023-06-13T07:02:12.753459Z"
    }
   },
   "outputs": [
    {
     "data": {
      "text/plain": [
       "7272     __-333333333333333333333333333__\n",
       "8934     __-333333333333333333333333333__\n",
       "21342    __-333333333333333333333333333__\n",
       "Name: Monthly_Balance, dtype: object"
      ]
     },
     "execution_count": 124,
     "metadata": {},
     "output_type": "execute_result"
    }
   ],
   "source": [
    "test['Monthly_Balance'][not_float_test]"
   ]
  },
  {
   "cell_type": "code",
   "execution_count": 125,
   "id": "5e9c8777",
   "metadata": {
    "ExecuteTime": {
     "end_time": "2023-06-13T07:02:12.908192Z",
     "start_time": "2023-06-13T07:02:12.894285Z"
    }
   },
   "outputs": [],
   "source": [
    "test.drop(not_float_test, inplace = True)"
   ]
  },
  {
   "cell_type": "code",
   "execution_count": 136,
   "id": "289d0ca3",
   "metadata": {
    "ExecuteTime": {
     "end_time": "2023-06-13T07:04:25.744164Z",
     "start_time": "2023-06-13T07:04:25.719781Z"
    }
   },
   "outputs": [],
   "source": [
    "train.dropna(subset= 'Monthly_Balance', inplace=True)\n",
    "test.dropna(subset= 'Monthly_Balance', inplace=True)"
   ]
  },
  {
   "cell_type": "code",
   "execution_count": 137,
   "id": "416e0e89",
   "metadata": {
    "ExecuteTime": {
     "end_time": "2023-06-13T07:04:28.345311Z",
     "start_time": "2023-06-13T07:04:28.338941Z"
    }
   },
   "outputs": [],
   "source": [
    "train.reset_index(drop=True, inplace = True)\n",
    "test.reset_index(drop=True, inplace = True)"
   ]
  },
  {
   "cell_type": "code",
   "execution_count": 138,
   "id": "dc6935a6",
   "metadata": {
    "ExecuteTime": {
     "end_time": "2023-06-13T07:04:32.493576Z",
     "start_time": "2023-06-13T07:04:32.475550Z"
    }
   },
   "outputs": [],
   "source": [
    "train['Monthly_Balance'] = train['Monthly_Balance'].astype('float')\n",
    "test['Monthly_Balance'] = test['Monthly_Balance'].astype('float')"
   ]
  },
  {
   "cell_type": "markdown",
   "id": "0411cde9",
   "metadata": {},
   "source": [
    "## Credit_Score"
   ]
  },
  {
   "cell_type": "code",
   "execution_count": 128,
   "id": "3450838f",
   "metadata": {
    "ExecuteTime": {
     "end_time": "2023-06-13T07:02:13.343902Z",
     "start_time": "2023-06-13T07:02:13.329533Z"
    }
   },
   "outputs": [
    {
     "data": {
      "text/plain": [
       "Standard    22912\n",
       "Poor        12439\n",
       "Good         7559\n",
       "Name: Credit_Score, dtype: int64"
      ]
     },
     "execution_count": 128,
     "metadata": {},
     "output_type": "execute_result"
    }
   ],
   "source": [
    "train['Credit_Score'].value_counts()"
   ]
  },
  {
   "cell_type": "code",
   "execution_count": 132,
   "id": "056ed6a6",
   "metadata": {
    "ExecuteTime": {
     "end_time": "2023-06-13T07:03:18.844124Z",
     "start_time": "2023-06-13T07:03:18.811808Z"
    }
   },
   "outputs": [],
   "source": [
    "train['Credit_Score'] = train['Credit_Score'].replace({\n",
    "    'Poor':0,\n",
    "    'Standard':1,\n",
    "    'Good':2\n",
    "})"
   ]
  },
  {
   "cell_type": "code",
   "execution_count": 133,
   "id": "d0cf6e28",
   "metadata": {
    "ExecuteTime": {
     "end_time": "2023-06-13T07:03:25.642282Z",
     "start_time": "2023-06-13T07:03:25.633374Z"
    }
   },
   "outputs": [
    {
     "data": {
      "text/plain": [
       "1    22912\n",
       "0    12439\n",
       "2     7559\n",
       "Name: Credit_Score, dtype: int64"
      ]
     },
     "execution_count": 133,
     "metadata": {},
     "output_type": "execute_result"
    }
   ],
   "source": [
    "train['Credit_Score'].value_counts()"
   ]
  },
  {
   "cell_type": "code",
   "execution_count": 140,
   "id": "5f088f89",
   "metadata": {
    "ExecuteTime": {
     "end_time": "2023-06-13T07:04:44.410119Z",
     "start_time": "2023-06-13T07:04:44.392997Z"
    }
   },
   "outputs": [
    {
     "data": {
      "text/plain": [
       "(42395, 21309)"
      ]
     },
     "execution_count": 140,
     "metadata": {},
     "output_type": "execute_result"
    }
   ],
   "source": [
    "len(train), len(test)"
   ]
  },
  {
   "cell_type": "markdown",
   "id": "c38aed47",
   "metadata": {},
   "source": [
    "# 전처리된 데이터 저장"
   ]
  },
  {
   "cell_type": "code",
   "execution_count": 142,
   "id": "a3a1b36e",
   "metadata": {
    "ExecuteTime": {
     "end_time": "2023-06-13T07:06:16.972931Z",
     "start_time": "2023-06-13T07:06:08.092170Z"
    }
   },
   "outputs": [],
   "source": [
    "train.to_csv(\"../data/preprocessing/train.csv\", index=False)\n",
    "test.to_csv(\"../data/preprocessing/test.csv\", index=False)"
   ]
  }
 ],
 "metadata": {
  "hide_input": false,
  "kernelspec": {
   "display_name": "Python 3 (ipykernel)",
   "language": "python",
   "name": "python3"
  },
  "language_info": {
   "codemirror_mode": {
    "name": "ipython",
    "version": 3
   },
   "file_extension": ".py",
   "mimetype": "text/x-python",
   "name": "python",
   "nbconvert_exporter": "python",
   "pygments_lexer": "ipython3",
   "version": "3.9.12"
  },
  "toc": {
   "base_numbering": 1,
   "nav_menu": {
    "height": "29px",
    "width": "160px"
   },
   "number_sections": true,
   "sideBar": true,
   "skip_h1_title": false,
   "title_cell": "Table of Contents",
   "title_sidebar": "Contents",
   "toc_cell": false,
   "toc_position": {
    "height": "calc(100% - 180px)",
    "left": "10px",
    "top": "150px",
    "width": "211px"
   },
   "toc_section_display": true,
   "toc_window_display": true
  },
  "varInspector": {
   "cols": {
    "lenName": 16,
    "lenType": 16,
    "lenVar": 40
   },
   "kernels_config": {
    "python": {
     "delete_cmd_postfix": "",
     "delete_cmd_prefix": "del ",
     "library": "var_list.py",
     "varRefreshCmd": "print(var_dic_list())"
    },
    "r": {
     "delete_cmd_postfix": ") ",
     "delete_cmd_prefix": "rm(",
     "library": "var_list.r",
     "varRefreshCmd": "cat(var_dic_list()) "
    }
   },
   "types_to_exclude": [
    "module",
    "function",
    "builtin_function_or_method",
    "instance",
    "_Feature"
   ],
   "window_display": false
  }
 },
 "nbformat": 4,
 "nbformat_minor": 5
}
